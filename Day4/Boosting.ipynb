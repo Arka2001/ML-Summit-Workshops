{
  "nbformat": 4,
  "nbformat_minor": 0,
  "metadata": {
    "colab": {
      "name": "Boosting.ipynb",
      "provenance": [],
      "collapsed_sections": []
    },
    "kernelspec": {
      "name": "python3",
      "display_name": "Python 3"
    }
  },
  "cells": [
    {
      "cell_type": "code",
      "metadata": {
        "id": "BrGs96sBz9EC",
        "colab_type": "code",
        "colab": {}
      },
      "source": [
        "import numpy as np\n",
        "import pandas as pd\n",
        "import matplotlib.pyplot as plt\n",
        "\n",
        "import seaborn as sn\n",
        "\n",
        "%matplotlib inline\n",
        "\n",
        "import warnings\n",
        "warnings.filterwarnings('ignore')"
      ],
      "execution_count": 0,
      "outputs": []
    },
    {
      "cell_type": "code",
      "metadata": {
        "id": "mC7LunB7DSKW",
        "colab_type": "code",
        "outputId": "94d7b149-87d0-4076-99b7-04728527360a",
        "colab": {
          "base_uri": "https://localhost:8080/",
          "height": 206
        }
      },
      "source": [
        "data = \"https://archive.ics.uci.edu/ml/machine-learning-databases/wine/wine.data\"\n",
        "columns = ['class', 'alcohol', 'malic acid', 'ash', 'alcalinity', 'magnesium', 'total_phenols', 'flavanoids', 'nonflavanoids', 'proanthocyanins', 'color', 'hue', 'od280/315', 'proline']\n",
        "df_wine = pd.read_csv(data)\n",
        "df_wine.columns = columns\n",
        "df_wine.head()"
      ],
      "execution_count": 2,
      "outputs": [
        {
          "output_type": "execute_result",
          "data": {
            "text/html": [
              "<div>\n",
              "<style scoped>\n",
              "    .dataframe tbody tr th:only-of-type {\n",
              "        vertical-align: middle;\n",
              "    }\n",
              "\n",
              "    .dataframe tbody tr th {\n",
              "        vertical-align: top;\n",
              "    }\n",
              "\n",
              "    .dataframe thead th {\n",
              "        text-align: right;\n",
              "    }\n",
              "</style>\n",
              "<table border=\"1\" class=\"dataframe\">\n",
              "  <thead>\n",
              "    <tr style=\"text-align: right;\">\n",
              "      <th></th>\n",
              "      <th>class</th>\n",
              "      <th>alcohol</th>\n",
              "      <th>malic acid</th>\n",
              "      <th>ash</th>\n",
              "      <th>alcalinity</th>\n",
              "      <th>magnesium</th>\n",
              "      <th>total_phenols</th>\n",
              "      <th>flavanoids</th>\n",
              "      <th>nonflavanoids</th>\n",
              "      <th>proanthocyanins</th>\n",
              "      <th>color</th>\n",
              "      <th>hue</th>\n",
              "      <th>od280/315</th>\n",
              "      <th>proline</th>\n",
              "    </tr>\n",
              "  </thead>\n",
              "  <tbody>\n",
              "    <tr>\n",
              "      <th>0</th>\n",
              "      <td>1</td>\n",
              "      <td>13.20</td>\n",
              "      <td>1.78</td>\n",
              "      <td>2.14</td>\n",
              "      <td>11.2</td>\n",
              "      <td>100</td>\n",
              "      <td>2.65</td>\n",
              "      <td>2.76</td>\n",
              "      <td>0.26</td>\n",
              "      <td>1.28</td>\n",
              "      <td>4.38</td>\n",
              "      <td>1.05</td>\n",
              "      <td>3.40</td>\n",
              "      <td>1050</td>\n",
              "    </tr>\n",
              "    <tr>\n",
              "      <th>1</th>\n",
              "      <td>1</td>\n",
              "      <td>13.16</td>\n",
              "      <td>2.36</td>\n",
              "      <td>2.67</td>\n",
              "      <td>18.6</td>\n",
              "      <td>101</td>\n",
              "      <td>2.80</td>\n",
              "      <td>3.24</td>\n",
              "      <td>0.30</td>\n",
              "      <td>2.81</td>\n",
              "      <td>5.68</td>\n",
              "      <td>1.03</td>\n",
              "      <td>3.17</td>\n",
              "      <td>1185</td>\n",
              "    </tr>\n",
              "    <tr>\n",
              "      <th>2</th>\n",
              "      <td>1</td>\n",
              "      <td>14.37</td>\n",
              "      <td>1.95</td>\n",
              "      <td>2.50</td>\n",
              "      <td>16.8</td>\n",
              "      <td>113</td>\n",
              "      <td>3.85</td>\n",
              "      <td>3.49</td>\n",
              "      <td>0.24</td>\n",
              "      <td>2.18</td>\n",
              "      <td>7.80</td>\n",
              "      <td>0.86</td>\n",
              "      <td>3.45</td>\n",
              "      <td>1480</td>\n",
              "    </tr>\n",
              "    <tr>\n",
              "      <th>3</th>\n",
              "      <td>1</td>\n",
              "      <td>13.24</td>\n",
              "      <td>2.59</td>\n",
              "      <td>2.87</td>\n",
              "      <td>21.0</td>\n",
              "      <td>118</td>\n",
              "      <td>2.80</td>\n",
              "      <td>2.69</td>\n",
              "      <td>0.39</td>\n",
              "      <td>1.82</td>\n",
              "      <td>4.32</td>\n",
              "      <td>1.04</td>\n",
              "      <td>2.93</td>\n",
              "      <td>735</td>\n",
              "    </tr>\n",
              "    <tr>\n",
              "      <th>4</th>\n",
              "      <td>1</td>\n",
              "      <td>14.20</td>\n",
              "      <td>1.76</td>\n",
              "      <td>2.45</td>\n",
              "      <td>15.2</td>\n",
              "      <td>112</td>\n",
              "      <td>3.27</td>\n",
              "      <td>3.39</td>\n",
              "      <td>0.34</td>\n",
              "      <td>1.97</td>\n",
              "      <td>6.75</td>\n",
              "      <td>1.05</td>\n",
              "      <td>2.85</td>\n",
              "      <td>1450</td>\n",
              "    </tr>\n",
              "  </tbody>\n",
              "</table>\n",
              "</div>"
            ],
            "text/plain": [
              "   class  alcohol  malic acid   ash  ...  color   hue  od280/315  proline\n",
              "0      1    13.20        1.78  2.14  ...   4.38  1.05       3.40     1050\n",
              "1      1    13.16        2.36  2.67  ...   5.68  1.03       3.17     1185\n",
              "2      1    14.37        1.95  2.50  ...   7.80  0.86       3.45     1480\n",
              "3      1    13.24        2.59  2.87  ...   4.32  1.04       2.93      735\n",
              "4      1    14.20        1.76  2.45  ...   6.75  1.05       2.85     1450\n",
              "\n",
              "[5 rows x 14 columns]"
            ]
          },
          "metadata": {
            "tags": []
          },
          "execution_count": 2
        }
      ]
    },
    {
      "cell_type": "code",
      "metadata": {
        "id": "3rmb9ONel_am",
        "colab_type": "code",
        "colab": {}
      },
      "source": [
        "def train_test_split(X, y=None, split_ratio=0.3, random_state=123, stype=\"separate\"):\n",
        "  np.random.seed(random_state)\n",
        "  if stype==\"separate\":\n",
        "    split = np.random.rand(X.shape[0]) < split_ratio\n",
        "    return X[~split], X[split], y[~split], y[split]\n",
        "  elif stype==\"whole\":\n",
        "    split = np.random.rand(X.shape[0]) < split_ratio\n",
        "    return X[~split], X[split] "
      ],
      "execution_count": 0,
      "outputs": []
    },
    {
      "cell_type": "code",
      "metadata": {
        "id": "RmIG_jXem4gU",
        "colab_type": "code",
        "colab": {}
      },
      "source": [
        "X = df_wine.iloc[:, 1:]\n",
        "y = df_wine[\"class\"]"
      ],
      "execution_count": 0,
      "outputs": []
    },
    {
      "cell_type": "code",
      "metadata": {
        "id": "_dcb6qnPmiWJ",
        "colab_type": "code",
        "colab": {}
      },
      "source": [
        "X_train, X_test, y_train, y_test = train_test_split(X, y)"
      ],
      "execution_count": 0,
      "outputs": []
    },
    {
      "cell_type": "markdown",
      "metadata": {
        "id": "7C00KGXAAZXD",
        "colab_type": "text"
      },
      "source": [
        "# XGBOOST"
      ]
    },
    {
      "cell_type": "code",
      "metadata": {
        "id": "oAV9bFHyk5Ue",
        "colab_type": "code",
        "colab": {}
      },
      "source": [
        "import xgboost\n",
        "from xgboost import XGBClassifier\n",
        "# Classification report and confusion matrix\n",
        "from sklearn.metrics import classification_report\n",
        "from sklearn.metrics import confusion_matrix\n",
        "# Cross validation\n",
        "from sklearn.model_selection import KFold\n",
        "from sklearn.model_selection import cross_val_score"
      ],
      "execution_count": 0,
      "outputs": []
    },
    {
      "cell_type": "code",
      "metadata": {
        "id": "TX365eNInkgP",
        "colab_type": "code",
        "outputId": "e1f171bd-6c45-45e7-fbfb-11aedbf07af4",
        "colab": {
          "base_uri": "https://localhost:8080/",
          "height": 139
        }
      },
      "source": [
        "# Initialize the model and set the hyperparameter values\n",
        "xgb_model = XGBClassifier(max_depth=2, n_estimators=30)\n",
        "xgb_model"
      ],
      "execution_count": 7,
      "outputs": [
        {
          "output_type": "execute_result",
          "data": {
            "text/plain": [
              "XGBClassifier(base_score=0.5, booster='gbtree', colsample_bylevel=1,\n",
              "              colsample_bynode=1, colsample_bytree=1, gamma=0,\n",
              "              learning_rate=0.1, max_delta_step=0, max_depth=2,\n",
              "              min_child_weight=1, missing=None, n_estimators=30, n_jobs=1,\n",
              "              nthread=None, objective='binary:logistic', random_state=0,\n",
              "              reg_alpha=0, reg_lambda=1, scale_pos_weight=1, seed=None,\n",
              "              silent=None, subsample=1, verbosity=1)"
            ]
          },
          "metadata": {
            "tags": []
          },
          "execution_count": 7
        }
      ]
    },
    {
      "cell_type": "code",
      "metadata": {
        "id": "__oEnDqkpVOg",
        "colab_type": "code",
        "outputId": "c25df7fc-b19f-440f-cf75-51a4e0bdd68f",
        "colab": {
          "base_uri": "https://localhost:8080/",
          "height": 34
        }
      },
      "source": [
        "# Initialize the KFold parameters\n",
        "kfold = KFold(n_splits=5, random_state=7)\n",
        "# Perform K-Fold Cross Validation\n",
        "results = cross_val_score(xgb_model, X_train, y_train, cv=kfold)\n",
        "# Print the average results\n",
        "print(\"Accuracy: %.2f%% (%.2f%%)\" % (results.mean()*100, results.std()*100))"
      ],
      "execution_count": 8,
      "outputs": [
        {
          "output_type": "stream",
          "text": [
            "Accuracy: 88.99% (4.61%)\n"
          ],
          "name": "stdout"
        }
      ]
    },
    {
      "cell_type": "code",
      "metadata": {
        "id": "vyz8AJHRnmr6",
        "colab_type": "code",
        "outputId": "76137394-1592-42db-da9a-c48e0763f491",
        "colab": {
          "base_uri": "https://localhost:8080/",
          "height": 139
        }
      },
      "source": [
        "xgb_model.fit(X_train, y_train)"
      ],
      "execution_count": 9,
      "outputs": [
        {
          "output_type": "execute_result",
          "data": {
            "text/plain": [
              "XGBClassifier(base_score=0.5, booster='gbtree', colsample_bylevel=1,\n",
              "              colsample_bynode=1, colsample_bytree=1, gamma=0,\n",
              "              learning_rate=0.1, max_delta_step=0, max_depth=2,\n",
              "              min_child_weight=1, missing=None, n_estimators=30, n_jobs=1,\n",
              "              nthread=None, objective='multi:softprob', random_state=0,\n",
              "              reg_alpha=0, reg_lambda=1, scale_pos_weight=1, seed=None,\n",
              "              silent=None, subsample=1, verbosity=1)"
            ]
          },
          "metadata": {
            "tags": []
          },
          "execution_count": 9
        }
      ]
    },
    {
      "cell_type": "code",
      "metadata": {
        "id": "iOXWdCWYo2hn",
        "colab_type": "code",
        "outputId": "8a26999c-2dd1-4310-d27e-907bf171be8f",
        "colab": {
          "base_uri": "https://localhost:8080/",
          "height": 295
        }
      },
      "source": [
        "# Plot the top 7 features\n",
        "xgboost.plot_importance(xgb_model, max_num_features=7)\n",
        "# Show the plot\n",
        "plt.show()"
      ],
      "execution_count": 10,
      "outputs": [
        {
          "output_type": "display_data",
          "data": {
            "image/png": "[encoded data removed]",
            "text/plain": [
              "<Figure size 432x288 with 1 Axes>"
            ]
          },
          "metadata": {
            "tags": []
          }
        }
      ]
    },
    {
      "cell_type": "code",
      "metadata": {
        "id": "B_wqjaWRqLX4",
        "colab_type": "code",
        "outputId": "0e0832ad-0611-48dd-876a-d3dbfcedd384",
        "colab": {
          "base_uri": "https://localhost:8080/",
          "height": 191
        }
      },
      "source": [
        "# Predict the trading signal on test dataset\n",
        "y_pred = xgb_model.predict(X_test)\n",
        "# Get the classification report\n",
        "print(classification_report(y_test, y_pred))"
      ],
      "execution_count": 11,
      "outputs": [
        {
          "output_type": "stream",
          "text": [
            "              precision    recall  f1-score   support\n",
            "\n",
            "           1       1.00      1.00      1.00        11\n",
            "           2       1.00      1.00      1.00        17\n",
            "           3       1.00      1.00      1.00        13\n",
            "\n",
            "    accuracy                           1.00        41\n",
            "   macro avg       1.00      1.00      1.00        41\n",
            "weighted avg       1.00      1.00      1.00        41\n",
            "\n"
          ],
          "name": "stdout"
        }
      ]
    },
    {
      "cell_type": "markdown",
      "metadata": {
        "id": "H0wGhUxN5EkI",
        "colab_type": "text"
      },
      "source": [
        "**REGRESSION**"
      ]
    },
    {
      "cell_type": "code",
      "metadata": {
        "id": "Sev7Wvg_36Y3",
        "colab_type": "code",
        "outputId": "ef79ac5e-f8c9-4044-a35a-ee6f24c66954",
        "colab": {
          "base_uri": "https://localhost:8080/",
          "height": 34
        }
      },
      "source": [
        "from xgboost import XGBRegressor\n",
        "from sklearn.metrics import mean_absolute_error, accuracy_score\n",
        "reg = XGBRegressor(learning_rate=0.3,verbosity=0,booster='gbtree',n_estimators=1000,early_stopping_rounds=5)\n",
        "\n",
        "reg.fit(X_train,y_train)\n",
        "# Make predictions\n",
        "pred_y2 = reg.predict(X_test)\n",
        "\n",
        "# Calculate MAE\n",
        "print(\"Mean Absolute Error : \" + str(mean_absolute_error(pred_y2, y_test)))"
      ],
      "execution_count": 12,
      "outputs": [
        {
          "output_type": "stream",
          "text": [
            "Mean Absolute Error : 0.1029444874786749\n"
          ],
          "name": "stdout"
        }
      ]
    },
    {
      "cell_type": "code",
      "metadata": {
        "id": "xfy1Sp4fqrEM",
        "colab_type": "code",
        "outputId": "98f8acec-0ad7-4b5b-f136-8fdf17e4ea82",
        "colab": {
          "base_uri": "https://localhost:8080/",
          "height": 279
        }
      },
      "source": [
        "array = confusion_matrix(y_test, y_pred)\n",
        "df = pd.DataFrame(array)\n",
        "plt.figure(figsize=(5, 4))\n",
        "sn.heatmap(df, annot=True, cmap='Greens', fmt='g')\n",
        "plt.xlabel('Predicted')\n",
        "plt.ylabel('Actual')\n",
        "plt.show()"
      ],
      "execution_count": 13,
      "outputs": [
        {
          "output_type": "display_data",
          "data": {
            "image/png": "[encoded data removed]",
            "text/plain": [
              "<Figure size 360x288 with 2 Axes>"
            ]
          },
          "metadata": {
            "tags": []
          }
        }
      ]
    },
    {
      "cell_type": "markdown",
      "metadata": {
        "id": "7ACHzKTTAcJe",
        "colab_type": "text"
      },
      "source": [
        "# **CATBOOST**"
      ]
    },
    {
      "cell_type": "code",
      "metadata": {
        "id": "kcjVPFwoxGZw",
        "colab_type": "code",
        "colab": {
          "base_uri": "https://localhost:8080/",
          "height": 347
        },
        "outputId": "fea3c437-566d-44ee-cd75-155a0ee61dd0"
      },
      "source": [
        "!pip install catboost\n",
        "from catboost import CatBoostClassifier\n",
        "import catboost"
      ],
      "execution_count": 15,
      "outputs": [
        {
          "output_type": "stream",
          "text": [
            "Collecting catboost\n",
            "\u001b[?25l  Downloading https://files.pythonhosted.org/packages/94/ec/12b9a42b2ea7dfe5b602f235692ab2b61ee1334ff34334a15902272869e8/catboost-0.22-cp36-none-manylinux1_x86_64.whl (64.4MB)\n",
            "\u001b[K     |████████████████████████████████| 64.4MB 60kB/s \n",
            "\u001b[?25hRequirement already satisfied: six in /usr/local/lib/python3.6/dist-packages (from catboost) (1.12.0)\n",
            "Requirement already satisfied: matplotlib in /usr/local/lib/python3.6/dist-packages (from catboost) (3.1.3)\n",
            "Requirement already satisfied: numpy>=1.16.0 in /usr/local/lib/python3.6/dist-packages (from catboost) (1.17.5)\n",
            "Requirement already satisfied: plotly in /usr/local/lib/python3.6/dist-packages (from catboost) (4.4.1)\n",
            "Requirement already satisfied: graphviz in /usr/local/lib/python3.6/dist-packages (from catboost) (0.10.1)\n",
            "Requirement already satisfied: scipy in /usr/local/lib/python3.6/dist-packages (from catboost) (1.4.1)\n",
            "Requirement already satisfied: pandas>=0.24.0 in /usr/local/lib/python3.6/dist-packages (from catboost) (0.25.3)\n",
            "Requirement already satisfied: cycler>=0.10 in /usr/local/lib/python3.6/dist-packages (from matplotlib->catboost) (0.10.0)\n",
            "Requirement already satisfied: python-dateutil>=2.1 in /usr/local/lib/python3.6/dist-packages (from matplotlib->catboost) (2.6.1)\n",
            "Requirement already satisfied: kiwisolver>=1.0.1 in /usr/local/lib/python3.6/dist-packages (from matplotlib->catboost) (1.1.0)\n",
            "Requirement already satisfied: pyparsing!=2.0.4,!=2.1.2,!=2.1.6,>=2.0.1 in /usr/local/lib/python3.6/dist-packages (from matplotlib->catboost) (2.4.6)\n",
            "Requirement already satisfied: retrying>=1.3.3 in /usr/local/lib/python3.6/dist-packages (from plotly->catboost) (1.3.3)\n",
            "Requirement already satisfied: pytz>=2017.2 in /usr/local/lib/python3.6/dist-packages (from pandas>=0.24.0->catboost) (2018.9)\n",
            "Requirement already satisfied: setuptools in /usr/local/lib/python3.6/dist-packages (from kiwisolver>=1.0.1->matplotlib->catboost) (45.2.0)\n",
            "Installing collected packages: catboost\n",
            "Successfully installed catboost-0.22\n"
          ],
          "name": "stdout"
        }
      ]
    },
    {
      "cell_type": "code",
      "metadata": {
        "id": "Ydi1tGxGzCPk",
        "colab_type": "code",
        "outputId": "0e889c1f-9bf4-459f-fa91-c8c075832028",
        "colab": {
          "base_uri": "https://localhost:8080/",
          "height": 34
        }
      },
      "source": [
        "cb_model = CatBoostClassifier(max_depth=2, n_estimators=30)\n",
        "cb_model"
      ],
      "execution_count": 16,
      "outputs": [
        {
          "output_type": "execute_result",
          "data": {
            "text/plain": [
              "<catboost.core.CatBoostClassifier at 0x7f72aac5be10>"
            ]
          },
          "metadata": {
            "tags": []
          },
          "execution_count": 16
        }
      ]
    },
    {
      "cell_type": "code",
      "metadata": {
        "id": "2aj5tWOUz3Z3",
        "colab_type": "code",
        "outputId": "8704a92d-82ec-43fd-c849-798e3f0eface",
        "colab": {
          "base_uri": "https://localhost:8080/",
          "height": 573
        }
      },
      "source": [
        "cb_model.fit(X_train, y_train)"
      ],
      "execution_count": 17,
      "outputs": [
        {
          "output_type": "stream",
          "text": [
            "Learning rate set to 0.5\n",
            "0:\tlearn: 0.6664718\ttotal: 46.7ms\tremaining: 1.35s\n",
            "1:\tlearn: 0.4903469\ttotal: 47.2ms\tremaining: 661ms\n",
            "2:\tlearn: 0.3635555\ttotal: 47.6ms\tremaining: 429ms\n",
            "3:\tlearn: 0.3275918\ttotal: 48ms\tremaining: 312ms\n",
            "4:\tlearn: 0.2675915\ttotal: 48.5ms\tremaining: 242ms\n",
            "5:\tlearn: 0.2181489\ttotal: 48.9ms\tremaining: 196ms\n",
            "6:\tlearn: 0.2019687\ttotal: 49.3ms\tremaining: 162ms\n",
            "7:\tlearn: 0.1636832\ttotal: 49.7ms\tremaining: 137ms\n",
            "8:\tlearn: 0.1496846\ttotal: 50.1ms\tremaining: 117ms\n",
            "9:\tlearn: 0.1477282\ttotal: 50.6ms\tremaining: 101ms\n",
            "10:\tlearn: 0.1340887\ttotal: 51ms\tremaining: 88.1ms\n",
            "11:\tlearn: 0.1171634\ttotal: 51.5ms\tremaining: 77.2ms\n",
            "12:\tlearn: 0.1000404\ttotal: 51.9ms\tremaining: 67.9ms\n",
            "13:\tlearn: 0.0923761\ttotal: 52.3ms\tremaining: 59.8ms\n",
            "14:\tlearn: 0.0847188\ttotal: 52.8ms\tremaining: 52.8ms\n",
            "15:\tlearn: 0.0769574\ttotal: 53.2ms\tremaining: 46.6ms\n",
            "16:\tlearn: 0.0760657\ttotal: 53.6ms\tremaining: 41ms\n",
            "17:\tlearn: 0.0749492\ttotal: 54ms\tremaining: 36ms\n",
            "18:\tlearn: 0.0741778\ttotal: 54.4ms\tremaining: 31.5ms\n",
            "19:\tlearn: 0.0733799\ttotal: 54.8ms\tremaining: 27.4ms\n",
            "20:\tlearn: 0.0696412\ttotal: 55.3ms\tremaining: 23.7ms\n",
            "21:\tlearn: 0.0664088\ttotal: 55.7ms\tremaining: 20.2ms\n",
            "22:\tlearn: 0.0660098\ttotal: 56.1ms\tremaining: 17.1ms\n",
            "23:\tlearn: 0.0644583\ttotal: 56.6ms\tremaining: 14.2ms\n",
            "24:\tlearn: 0.0639725\ttotal: 57ms\tremaining: 11.4ms\n",
            "25:\tlearn: 0.0608509\ttotal: 57.5ms\tremaining: 8.84ms\n",
            "26:\tlearn: 0.0545817\ttotal: 57.9ms\tremaining: 6.44ms\n",
            "27:\tlearn: 0.0531843\ttotal: 58.5ms\tremaining: 4.18ms\n",
            "28:\tlearn: 0.0505407\ttotal: 59ms\tremaining: 2.03ms\n",
            "29:\tlearn: 0.0500800\ttotal: 59.4ms\tremaining: 0us\n"
          ],
          "name": "stdout"
        },
        {
          "output_type": "execute_result",
          "data": {
            "text/plain": [
              "<catboost.core.CatBoostClassifier at 0x7f72aac5be10>"
            ]
          },
          "metadata": {
            "tags": []
          },
          "execution_count": 17
        }
      ]
    },
    {
      "cell_type": "code",
      "metadata": {
        "id": "0pz6qBhrzssB",
        "colab_type": "code",
        "outputId": "e093e849-b607-4db0-ec9b-146b88945751",
        "colab": {
          "base_uri": "https://localhost:8080/",
          "height": 1000
        }
      },
      "source": [
        "# Initialize the KFold parameters\n",
        "kfold = KFold(n_splits=5, random_state=7)\n",
        "# Perform K-Fold Cross Validation\n",
        "results = cross_val_score(cb_model, X_train, y_train, cv=kfold)\n",
        "# Print the average results\n",
        "print(\"Accuracy: %.2f%% (%.2f%%)\" % (results.mean()*100, results.std()*100))"
      ],
      "execution_count": 18,
      "outputs": [
        {
          "output_type": "stream",
          "text": [
            "Learning rate set to 0.5\n",
            "0:\tlearn: 0.6921044\ttotal: 464us\tremaining: 13.5ms\n",
            "1:\tlearn: 0.5114732\ttotal: 821us\tremaining: 11.5ms\n",
            "2:\tlearn: 0.4137879\ttotal: 1.2ms\tremaining: 10.8ms\n",
            "3:\tlearn: 0.3280561\ttotal: 1.58ms\tremaining: 10.3ms\n",
            "4:\tlearn: 0.2721599\ttotal: 1.97ms\tremaining: 9.85ms\n",
            "5:\tlearn: 0.2238736\ttotal: 2.33ms\tremaining: 9.33ms\n",
            "6:\tlearn: 0.1848322\ttotal: 2.78ms\tremaining: 9.15ms\n",
            "7:\tlearn: 0.1587467\ttotal: 3.13ms\tremaining: 8.61ms\n",
            "8:\tlearn: 0.1493126\ttotal: 3.46ms\tremaining: 8.07ms\n",
            "9:\tlearn: 0.1312335\ttotal: 3.81ms\tremaining: 7.61ms\n",
            "10:\tlearn: 0.1181466\ttotal: 4.15ms\tremaining: 7.16ms\n",
            "11:\tlearn: 0.1014301\ttotal: 4.51ms\tremaining: 6.77ms\n",
            "12:\tlearn: 0.0928452\ttotal: 4.89ms\tremaining: 6.4ms\n",
            "13:\tlearn: 0.0850190\ttotal: 5.27ms\tremaining: 6.03ms\n",
            "14:\tlearn: 0.0754955\ttotal: 5.63ms\tremaining: 5.63ms\n",
            "15:\tlearn: 0.0688724\ttotal: 5.99ms\tremaining: 5.24ms\n",
            "16:\tlearn: 0.0612593\ttotal: 6.37ms\tremaining: 4.87ms\n",
            "17:\tlearn: 0.0555330\ttotal: 6.78ms\tremaining: 4.52ms\n",
            "18:\tlearn: 0.0533723\ttotal: 7.13ms\tremaining: 4.13ms\n",
            "19:\tlearn: 0.0486591\ttotal: 7.56ms\tremaining: 3.78ms\n",
            "20:\tlearn: 0.0433346\ttotal: 7.93ms\tremaining: 3.4ms\n",
            "21:\tlearn: 0.0395602\ttotal: 8.34ms\tremaining: 3.03ms\n",
            "22:\tlearn: 0.0370318\ttotal: 8.73ms\tremaining: 2.66ms\n",
            "23:\tlearn: 0.0350172\ttotal: 9.11ms\tremaining: 2.28ms\n",
            "24:\tlearn: 0.0340614\ttotal: 9.48ms\tremaining: 1.9ms\n",
            "25:\tlearn: 0.0314956\ttotal: 9.87ms\tremaining: 1.52ms\n",
            "26:\tlearn: 0.0303786\ttotal: 10.2ms\tremaining: 1.14ms\n",
            "27:\tlearn: 0.0284482\ttotal: 10.6ms\tremaining: 760us\n",
            "28:\tlearn: 0.0270169\ttotal: 11ms\tremaining: 380us\n",
            "29:\tlearn: 0.0253743\ttotal: 11.4ms\tremaining: 0us\n",
            "Learning rate set to 0.5\n",
            "0:\tlearn: 0.6412677\ttotal: 405us\tremaining: 11.8ms\n",
            "1:\tlearn: 0.4190642\ttotal: 787us\tremaining: 11ms\n",
            "2:\tlearn: 0.3432340\ttotal: 1.21ms\tremaining: 10.9ms\n",
            "3:\tlearn: 0.2885413\ttotal: 1.56ms\tremaining: 10.2ms\n",
            "4:\tlearn: 0.2270164\ttotal: 1.92ms\tremaining: 9.62ms\n",
            "5:\tlearn: 0.1875819\ttotal: 2.29ms\tremaining: 9.15ms\n",
            "6:\tlearn: 0.1531682\ttotal: 2.72ms\tremaining: 8.93ms\n",
            "7:\tlearn: 0.1399717\ttotal: 3.05ms\tremaining: 8.4ms\n",
            "8:\tlearn: 0.1290968\ttotal: 3.44ms\tremaining: 8.02ms\n",
            "9:\tlearn: 0.1152298\ttotal: 3.82ms\tremaining: 7.64ms\n",
            "10:\tlearn: 0.1067310\ttotal: 4.19ms\tremaining: 7.23ms\n",
            "11:\tlearn: 0.0967446\ttotal: 4.53ms\tremaining: 6.79ms\n",
            "12:\tlearn: 0.0908093\ttotal: 4.91ms\tremaining: 6.42ms\n",
            "13:\tlearn: 0.0837725\ttotal: 5.3ms\tremaining: 6.06ms\n",
            "14:\tlearn: 0.0818370\ttotal: 5.69ms\tremaining: 5.69ms\n",
            "15:\tlearn: 0.0807542\ttotal: 6.08ms\tremaining: 5.33ms\n",
            "16:\tlearn: 0.0733259\ttotal: 6.46ms\tremaining: 4.94ms\n",
            "17:\tlearn: 0.0664725\ttotal: 6.84ms\tremaining: 4.56ms\n",
            "18:\tlearn: 0.0654209\ttotal: 7.23ms\tremaining: 4.19ms\n",
            "19:\tlearn: 0.0639060\ttotal: 7.6ms\tremaining: 3.8ms\n",
            "20:\tlearn: 0.0611199\ttotal: 8ms\tremaining: 3.43ms\n",
            "21:\tlearn: 0.0563296\ttotal: 8.34ms\tremaining: 3.03ms\n",
            "22:\tlearn: 0.0555615\ttotal: 8.71ms\tremaining: 2.65ms\n",
            "23:\tlearn: 0.0537226\ttotal: 9.11ms\tremaining: 2.28ms\n",
            "24:\tlearn: 0.0531711\ttotal: 9.46ms\tremaining: 1.89ms\n",
            "25:\tlearn: 0.0526504\ttotal: 9.84ms\tremaining: 1.51ms\n",
            "26:\tlearn: 0.0519397\ttotal: 10.2ms\tremaining: 1.14ms\n",
            "27:\tlearn: 0.0491697\ttotal: 10.6ms\tremaining: 754us\n",
            "28:\tlearn: 0.0464703\ttotal: 10.9ms\tremaining: 376us\n",
            "29:\tlearn: 0.0413734\ttotal: 11.3ms\tremaining: 0us\n",
            "Learning rate set to 0.5\n",
            "0:\tlearn: 0.8115357\ttotal: 375us\tremaining: 10.9ms\n",
            "1:\tlearn: 0.4966475\ttotal: 770us\tremaining: 10.8ms\n",
            "2:\tlearn: 0.3534604\ttotal: 1.26ms\tremaining: 11.3ms\n",
            "3:\tlearn: 0.3064831\ttotal: 1.62ms\tremaining: 10.5ms\n",
            "4:\tlearn: 0.2352328\ttotal: 2.21ms\tremaining: 11ms\n",
            "5:\tlearn: 0.1858779\ttotal: 2.66ms\tremaining: 10.6ms\n",
            "6:\tlearn: 0.1675263\ttotal: 3.03ms\tremaining: 9.97ms\n",
            "7:\tlearn: 0.1330911\ttotal: 3.36ms\tremaining: 9.25ms\n",
            "8:\tlearn: 0.1117521\ttotal: 6.27ms\tremaining: 14.6ms\n",
            "9:\tlearn: 0.1011762\ttotal: 6.84ms\tremaining: 13.7ms\n",
            "10:\tlearn: 0.0921167\ttotal: 7.86ms\tremaining: 13.6ms\n",
            "11:\tlearn: 0.0793721\ttotal: 8.45ms\tremaining: 12.7ms\n",
            "12:\tlearn: 0.0675701\ttotal: 9ms\tremaining: 11.8ms\n",
            "13:\tlearn: 0.0602538\ttotal: 9.38ms\tremaining: 10.7ms\n",
            "14:\tlearn: 0.0546051\ttotal: 9.76ms\tremaining: 9.76ms\n",
            "15:\tlearn: 0.0473852\ttotal: 10.2ms\tremaining: 8.91ms\n",
            "16:\tlearn: 0.0431535\ttotal: 12.4ms\tremaining: 9.52ms\n",
            "17:\tlearn: 0.0404471\ttotal: 12.8ms\tremaining: 8.54ms\n",
            "18:\tlearn: 0.0396244\ttotal: 13.1ms\tremaining: 7.61ms\n",
            "19:\tlearn: 0.0367994\ttotal: 13.6ms\tremaining: 6.78ms\n",
            "20:\tlearn: 0.0361850\ttotal: 13.9ms\tremaining: 5.96ms\n",
            "21:\tlearn: 0.0335161\ttotal: 14.3ms\tremaining: 5.19ms\n",
            "22:\tlearn: 0.0309290\ttotal: 14.6ms\tremaining: 4.45ms\n",
            "23:\tlearn: 0.0304895\ttotal: 15ms\tremaining: 3.74ms\n",
            "24:\tlearn: 0.0283739\ttotal: 15.3ms\tremaining: 3.06ms\n",
            "25:\tlearn: 0.0268853\ttotal: 15.6ms\tremaining: 2.41ms\n",
            "26:\tlearn: 0.0256486\ttotal: 16ms\tremaining: 1.77ms\n",
            "27:\tlearn: 0.0241667\ttotal: 16.3ms\tremaining: 1.17ms\n",
            "28:\tlearn: 0.0234076\ttotal: 16.7ms\tremaining: 574us\n",
            "29:\tlearn: 0.0229167\ttotal: 17ms\tremaining: 0us\n",
            "Learning rate set to 0.5\n",
            "0:\tlearn: 0.6688007\ttotal: 427us\tremaining: 12.4ms\n",
            "1:\tlearn: 0.4594548\ttotal: 808us\tremaining: 11.3ms\n",
            "2:\tlearn: 0.3650344\ttotal: 1.21ms\tremaining: 10.9ms\n",
            "3:\tlearn: 0.2889169\ttotal: 1.6ms\tremaining: 10.4ms\n",
            "4:\tlearn: 0.2467346\ttotal: 1.98ms\tremaining: 9.92ms\n",
            "5:\tlearn: 0.1902144\ttotal: 2.37ms\tremaining: 9.5ms\n",
            "6:\tlearn: 0.1768936\ttotal: 2.75ms\tremaining: 9.05ms\n",
            "7:\tlearn: 0.1533769\ttotal: 3.15ms\tremaining: 8.65ms\n",
            "8:\tlearn: 0.1414731\ttotal: 3.49ms\tremaining: 8.14ms\n",
            "9:\tlearn: 0.1157239\ttotal: 3.83ms\tremaining: 7.66ms\n",
            "10:\tlearn: 0.1062222\ttotal: 4.16ms\tremaining: 7.19ms\n",
            "11:\tlearn: 0.0970445\ttotal: 4.5ms\tremaining: 6.75ms\n",
            "12:\tlearn: 0.0887750\ttotal: 5.07ms\tremaining: 6.63ms\n",
            "13:\tlearn: 0.0831441\ttotal: 5.47ms\tremaining: 6.25ms\n",
            "14:\tlearn: 0.0736236\ttotal: 5.81ms\tremaining: 5.81ms\n",
            "15:\tlearn: 0.0678735\ttotal: 6.17ms\tremaining: 5.4ms\n",
            "16:\tlearn: 0.0648504\ttotal: 6.53ms\tremaining: 5ms\n",
            "17:\tlearn: 0.0639455\ttotal: 6.93ms\tremaining: 4.62ms\n",
            "18:\tlearn: 0.0610730\ttotal: 7.31ms\tremaining: 4.23ms\n",
            "19:\tlearn: 0.0604704\ttotal: 7.71ms\tremaining: 3.85ms\n",
            "20:\tlearn: 0.0552163\ttotal: 8.09ms\tremaining: 3.47ms\n",
            "21:\tlearn: 0.0513226\ttotal: 8.51ms\tremaining: 3.09ms\n",
            "22:\tlearn: 0.0482448\ttotal: 8.84ms\tremaining: 2.69ms\n",
            "23:\tlearn: 0.0477826\ttotal: 9.22ms\tremaining: 2.3ms\n",
            "24:\tlearn: 0.0473510\ttotal: 9.58ms\tremaining: 1.92ms\n",
            "25:\tlearn: 0.0469502\ttotal: 9.97ms\tremaining: 1.53ms\n",
            "26:\tlearn: 0.0466696\ttotal: 10.3ms\tremaining: 1.15ms\n",
            "27:\tlearn: 0.0428740\ttotal: 10.7ms\tremaining: 767us\n",
            "28:\tlearn: 0.0413806\ttotal: 11.1ms\tremaining: 382us\n",
            "29:\tlearn: 0.0410137\ttotal: 11.5ms\tremaining: 0us\n",
            "Learning rate set to 0.5\n",
            "0:\tlearn: 0.6686161\ttotal: 415us\tremaining: 12ms\n",
            "1:\tlearn: 0.4737150\ttotal: 807us\tremaining: 11.3ms\n",
            "2:\tlearn: 0.3713731\ttotal: 1.2ms\tremaining: 10.8ms\n",
            "3:\tlearn: 0.3183746\ttotal: 1.54ms\tremaining: 10ms\n",
            "4:\tlearn: 0.2687290\ttotal: 1.9ms\tremaining: 9.5ms\n",
            "5:\tlearn: 0.2235679\ttotal: 2.27ms\tremaining: 9.08ms\n",
            "6:\tlearn: 0.2007182\ttotal: 2.67ms\tremaining: 8.76ms\n",
            "7:\tlearn: 0.1665599\ttotal: 3.04ms\tremaining: 8.36ms\n",
            "8:\tlearn: 0.1517966\ttotal: 3.43ms\tremaining: 8.01ms\n",
            "9:\tlearn: 0.1437038\ttotal: 3.79ms\tremaining: 7.57ms\n",
            "10:\tlearn: 0.1318514\ttotal: 4.13ms\tremaining: 7.14ms\n",
            "11:\tlearn: 0.1219309\ttotal: 4.49ms\tremaining: 6.73ms\n",
            "12:\tlearn: 0.1086125\ttotal: 4.83ms\tremaining: 6.31ms\n",
            "13:\tlearn: 0.0957199\ttotal: 5.17ms\tremaining: 5.91ms\n",
            "14:\tlearn: 0.0900149\ttotal: 5.52ms\tremaining: 5.52ms\n",
            "15:\tlearn: 0.0784158\ttotal: 5.86ms\tremaining: 5.13ms\n",
            "16:\tlearn: 0.0746888\ttotal: 6.22ms\tremaining: 4.76ms\n",
            "17:\tlearn: 0.0730255\ttotal: 6.59ms\tremaining: 4.4ms\n",
            "18:\tlearn: 0.0710868\ttotal: 6.95ms\tremaining: 4.02ms\n",
            "19:\tlearn: 0.0684338\ttotal: 7.32ms\tremaining: 3.66ms\n",
            "20:\tlearn: 0.0662560\ttotal: 7.69ms\tremaining: 3.3ms\n",
            "21:\tlearn: 0.0600763\ttotal: 8.03ms\tremaining: 2.92ms\n",
            "22:\tlearn: 0.0530425\ttotal: 8.39ms\tremaining: 2.55ms\n",
            "23:\tlearn: 0.0522535\ttotal: 8.75ms\tremaining: 2.19ms\n",
            "24:\tlearn: 0.0515988\ttotal: 9.11ms\tremaining: 1.82ms\n",
            "25:\tlearn: 0.0500276\ttotal: 9.51ms\tremaining: 1.46ms\n",
            "26:\tlearn: 0.0460792\ttotal: 9.85ms\tremaining: 1.09ms\n",
            "27:\tlearn: 0.0425492\ttotal: 10.2ms\tremaining: 727us\n",
            "28:\tlearn: 0.0390888\ttotal: 10.5ms\tremaining: 362us\n",
            "29:\tlearn: 0.0376361\ttotal: 10.9ms\tremaining: 0us\n",
            "Accuracy: 88.99% (6.57%)\n"
          ],
          "name": "stdout"
        }
      ]
    },
    {
      "cell_type": "code",
      "metadata": {
        "id": "kMwcqbO5zzcH",
        "colab_type": "code",
        "outputId": "a69ff310-fee7-47c2-d1f6-527ee80b1ae3",
        "colab": {
          "base_uri": "https://localhost:8080/",
          "height": 592
        }
      },
      "source": [
        "# Feature Importance\n",
        "fea_imp = pd.DataFrame({'imp': cb_model.feature_importances_, 'col': X.columns})\n",
        "fea_imp = fea_imp.sort_values(['imp', 'col'], ascending=[True, False]).iloc[-30:]\n",
        "_ = fea_imp.plot(kind='barh', x='col', y='imp', figsize=(20, 10))\n",
        "plt.savefig('catboost_feature_importance.png')"
      ],
      "execution_count": 19,
      "outputs": [
        {
          "output_type": "display_data",
          "data": {
            "image/png": "[encoded data removed]",
            "text/plain": [
              "<Figure size 1440x720 with 1 Axes>"
            ]
          },
          "metadata": {
            "tags": []
          }
        }
      ]
    },
    {
      "cell_type": "code",
      "metadata": {
        "id": "8VZSTLQu0ar9",
        "colab_type": "code",
        "outputId": "9a3803df-e0c6-4e77-c0fe-ade9c26364b6",
        "colab": {
          "base_uri": "https://localhost:8080/",
          "height": 191
        }
      },
      "source": [
        "# Predict the trading signal on test dataset\n",
        "y_pred = cb_model.predict(X_test)\n",
        "# Get the classification report\n",
        "print(classification_report(y_test, y_pred))"
      ],
      "execution_count": 20,
      "outputs": [
        {
          "output_type": "stream",
          "text": [
            "              precision    recall  f1-score   support\n",
            "\n",
            "           1       1.00      1.00      1.00        11\n",
            "           2       1.00      1.00      1.00        17\n",
            "           3       1.00      1.00      1.00        13\n",
            "\n",
            "    accuracy                           1.00        41\n",
            "   macro avg       1.00      1.00      1.00        41\n",
            "weighted avg       1.00      1.00      1.00        41\n",
            "\n"
          ],
          "name": "stdout"
        }
      ]
    },
    {
      "cell_type": "code",
      "metadata": {
        "id": "PVsLwz3T00qt",
        "colab_type": "code",
        "outputId": "e2eb967e-bf9f-456e-c1c5-e235a1c33563",
        "colab": {
          "base_uri": "https://localhost:8080/",
          "height": 279
        }
      },
      "source": [
        "array = confusion_matrix(y_test, y_pred)\n",
        "df = pd.DataFrame(array)\n",
        "plt.figure(figsize=(5, 4))\n",
        "sn.heatmap(df, annot=True, cmap='Greens', fmt='g')\n",
        "plt.xlabel('Predicted')\n",
        "plt.ylabel('Actual')\n",
        "plt.show()"
      ],
      "execution_count": 21,
      "outputs": [
        {
          "output_type": "display_data",
          "data": {
            "image/png": "[encoded data removed]",
            "text/plain": [
              "<Figure size 360x288 with 2 Axes>"
            ]
          },
          "metadata": {
            "tags": []
          }
        }
      ]
    },
    {
      "cell_type": "code",
      "metadata": {
        "id": "JlUEVjY8Fcbr",
        "colab_type": "code",
        "colab": {}
      },
      "source": [
        ""
      ],
      "execution_count": 0,
      "outputs": []
    }
  ]
}
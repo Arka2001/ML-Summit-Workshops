{
  "nbformat": 4,
  "nbformat_minor": 0,
  "metadata": {
    "colab": {
      "name": "KNN.ipynb",
      "provenance": [],
      "collapsed_sections": []
    },
    "kernelspec": {
      "name": "python3",
      "display_name": "Python 3"
    }
  },
  "cells": [
    {
      "cell_type": "code",
      "metadata": {
        "id": "KaMaod5mSITL",
        "colab_type": "code",
        "colab": {}
      },
      "source": [
        "import numpy as np\n",
        "import pandas as pd\n",
        "import matplotlib.pyplot as plt\n",
        "import seaborn as sns\n",
        "import operator\n",
        "%matplotlib inline\n",
        "from sklearn import datasets"
      ],
      "execution_count": 0,
      "outputs": []
    },
    {
      "cell_type": "markdown",
      "metadata": {
        "id": "aPewQni4_Ts_",
        "colab_type": "text"
      },
      "source": [
        "## Loading CSV Data"
      ]
    },
    {
      "cell_type": "code",
      "metadata": {
        "id": "MuVA0eJR3fbO",
        "colab_type": "code",
        "colab": {}
      },
      "source": [
        "def load_csv(data, columns=None, header=None):\n",
        "  data = pd.read_csv(data, header=header)\n",
        "  if columns != None:\n",
        "    data.columns = columns\n",
        "  return data"
      ],
      "execution_count": 0,
      "outputs": []
    },
    {
      "cell_type": "markdown",
      "metadata": {
        "id": "aDCFcUeBCC-e",
        "colab_type": "text"
      },
      "source": [
        "## Train Test Split"
      ]
    },
    {
      "cell_type": "code",
      "metadata": {
        "id": "ru1pO96V6Hcv",
        "colab_type": "code",
        "colab": {}
      },
      "source": [
        "def train_test_split(X, y=None, split_ratio=0.3, random_state=123, stype=\"separate\"):\n",
        "  np.random.seed(random_state)\n",
        "  if stype==\"separate\":\n",
        "    split = np.random.rand(X.shape[0]) < split_ratio\n",
        "    return X[~split], X[split], y[~split], y[split]\n",
        "  elif stype==\"whole\":\n",
        "    split = np.random.rand(X.shape[0]) < split_ratio\n",
        "    return X[~split], X[split] "
      ],
      "execution_count": 0,
      "outputs": []
    },
    {
      "cell_type": "markdown",
      "metadata": {
        "id": "1iWa6iF1P2lU",
        "colab_type": "text"
      },
      "source": [
        "## Euclidean Distance"
      ]
    },
    {
      "cell_type": "code",
      "metadata": {
        "id": "LPMNWU5HChT7",
        "colab_type": "code",
        "colab": {}
      },
      "source": [
        "def euclideanDistance(instance1, instance2, length):\n",
        "  distance = 0\n",
        "  for x in range(length): \n",
        "    distance += np.power((instance1[x] - instance2[x]), 2)\n",
        "  return np.sqrt(distance)\n",
        " "
      ],
      "execution_count": 0,
      "outputs": []
    },
    {
      "cell_type": "markdown",
      "metadata": {
        "id": "Lne2CtYpQdOp",
        "colab_type": "text"
      },
      "source": [
        "## Getting Neighbours"
      ]
    },
    {
      "cell_type": "code",
      "metadata": {
        "id": "GbXXADPdC2Dq",
        "colab_type": "code",
        "colab": {}
      },
      "source": [
        "def getNeighbors(X_train, y_train, X_test, k):\n",
        "  distances = []\n",
        "  for x in range(len(X_train)):\n",
        "    dist = euclideanDistance(X_test, X_train[x], len(X_test))\n",
        "    distances.append((X_train[x], y_train[x], dist))\n",
        "  \n",
        "  distances.sort(key=operator.itemgetter(2))\n",
        "  neighbors = []\n",
        "  for x in range(k):\n",
        "    neighbors.append((distances[x][0], distances[x][1]))\n",
        "  return neighbors\n",
        "\n",
        "  "
      ],
      "execution_count": 0,
      "outputs": []
    },
    {
      "cell_type": "markdown",
      "metadata": {
        "id": "qiXM0X-IQpQp",
        "colab_type": "text"
      },
      "source": [
        "## Finding optimal class"
      ]
    },
    {
      "cell_type": "code",
      "metadata": {
        "id": "GpWwelwsDNxT",
        "colab_type": "code",
        "colab": {}
      },
      "source": [
        "def getResponse(neighbors):\n",
        "\tclassVotes = {}\n",
        "\tfor x in range(len(neighbors)):\n",
        "\t\tresponse = neighbors[x][-1]\n",
        "\t\tif response in classVotes:\n",
        "\t\t\tclassVotes[response] += 1\n",
        "\t\telse:\n",
        "\t\t\tclassVotes[response] = 1\n",
        "\tsortedVotes = sorted(classVotes.items(), key=operator.itemgetter(1), reverse=True)\n",
        "\treturn sortedVotes[0][0]"
      ],
      "execution_count": 0,
      "outputs": []
    },
    {
      "cell_type": "markdown",
      "metadata": {
        "id": "XVil1_CXQswY",
        "colab_type": "text"
      },
      "source": [
        "## Accuracy Calculation"
      ]
    },
    {
      "cell_type": "code",
      "metadata": {
        "id": "ozamAasMDOnX",
        "colab_type": "code",
        "colab": {}
      },
      "source": [
        "def getAccuracy(y_test, predictions):\n",
        "  correct = 0\n",
        "  y_test = np.array(y_test)\n",
        "  for x in range(len(y_test)):\n",
        "    if y_test[x] == predictions[x]:\n",
        "      correct += 1\n",
        "  return (correct/float(len(y_test))) * 100.0"
      ],
      "execution_count": 0,
      "outputs": []
    },
    {
      "cell_type": "code",
      "metadata": {
        "id": "MW14cWp-Del_",
        "colab_type": "code",
        "colab": {}
      },
      "source": [
        "def knn_algorithm(X, y, n_neighbors=5):\n",
        "  model=[]\n",
        "  model.append(X)\n",
        "  model.append(y)\n",
        "  model.append(n_neighbors)\n",
        "  return model"
      ],
      "execution_count": 0,
      "outputs": []
    },
    {
      "cell_type": "markdown",
      "metadata": {
        "id": "fd2erupLQw_h",
        "colab_type": "text"
      },
      "source": [
        "## Classify Data"
      ]
    },
    {
      "cell_type": "code",
      "metadata": {
        "id": "KO-k-55eFTRP",
        "colab_type": "code",
        "colab": {}
      },
      "source": [
        "def classifyData(X_test, model):\n",
        "  X_train = np.array(model[0])\n",
        "  y_train = np.array(model[1])\n",
        "  k = model[2]\n",
        "  X_test = np.array(X_test)\n",
        "  predictions = np.empty(len(X_test), dtype=object)\n",
        "  for i in range(len(X_test)):\n",
        "    neighbors = getNeighbors(X_train,y_train,X_test[i],k)\n",
        "    result = getResponse(neighbors)\n",
        "    predictions[i] = result\n",
        "\n",
        "  return predictions"
      ],
      "execution_count": 0,
      "outputs": []
    },
    {
      "cell_type": "markdown",
      "metadata": {
        "id": "rip12iAaQO8-",
        "colab_type": "text"
      },
      "source": [
        "## Our Model vs Sklearn Model\n",
        "\n",
        "### Our Model"
      ]
    },
    {
      "cell_type": "code",
      "metadata": {
        "id": "5aoWlyINVniG",
        "colab_type": "code",
        "outputId": "b048d192-8287-4b41-8d3b-693d2f18380e",
        "colab": {
          "base_uri": "https://localhost:8080/",
          "height": 206
        }
      },
      "source": [
        "data = \"https://archive.ics.uci.edu/ml/machine-learning-databases/iris/iris.data\"\n",
        "columns = ['sepal_length', 'sepal_width', 'petal_length', 'petal_width', 'class']\n",
        "iris = load_csv(data, columns)\n",
        "iris.head()"
      ],
      "execution_count": 4,
      "outputs": [
        {
          "output_type": "execute_result",
          "data": {
            "text/html": [
              "<div>\n",
              "<style scoped>\n",
              "    .dataframe tbody tr th:only-of-type {\n",
              "        vertical-align: middle;\n",
              "    }\n",
              "\n",
              "    .dataframe tbody tr th {\n",
              "        vertical-align: top;\n",
              "    }\n",
              "\n",
              "    .dataframe thead th {\n",
              "        text-align: right;\n",
              "    }\n",
              "</style>\n",
              "<table border=\"1\" class=\"dataframe\">\n",
              "  <thead>\n",
              "    <tr style=\"text-align: right;\">\n",
              "      <th></th>\n",
              "      <th>sepal_length</th>\n",
              "      <th>sepal_width</th>\n",
              "      <th>petal_length</th>\n",
              "      <th>petal_width</th>\n",
              "      <th>class</th>\n",
              "    </tr>\n",
              "  </thead>\n",
              "  <tbody>\n",
              "    <tr>\n",
              "      <th>0</th>\n",
              "      <td>5.1</td>\n",
              "      <td>3.5</td>\n",
              "      <td>1.4</td>\n",
              "      <td>0.2</td>\n",
              "      <td>Iris-setosa</td>\n",
              "    </tr>\n",
              "    <tr>\n",
              "      <th>1</th>\n",
              "      <td>4.9</td>\n",
              "      <td>3.0</td>\n",
              "      <td>1.4</td>\n",
              "      <td>0.2</td>\n",
              "      <td>Iris-setosa</td>\n",
              "    </tr>\n",
              "    <tr>\n",
              "      <th>2</th>\n",
              "      <td>4.7</td>\n",
              "      <td>3.2</td>\n",
              "      <td>1.3</td>\n",
              "      <td>0.2</td>\n",
              "      <td>Iris-setosa</td>\n",
              "    </tr>\n",
              "    <tr>\n",
              "      <th>3</th>\n",
              "      <td>4.6</td>\n",
              "      <td>3.1</td>\n",
              "      <td>1.5</td>\n",
              "      <td>0.2</td>\n",
              "      <td>Iris-setosa</td>\n",
              "    </tr>\n",
              "    <tr>\n",
              "      <th>4</th>\n",
              "      <td>5.0</td>\n",
              "      <td>3.6</td>\n",
              "      <td>1.4</td>\n",
              "      <td>0.2</td>\n",
              "      <td>Iris-setosa</td>\n",
              "    </tr>\n",
              "  </tbody>\n",
              "</table>\n",
              "</div>"
            ],
            "text/plain": [
              "   sepal_length  sepal_width  petal_length  petal_width        class\n",
              "0           5.1          3.5           1.4          0.2  Iris-setosa\n",
              "1           4.9          3.0           1.4          0.2  Iris-setosa\n",
              "2           4.7          3.2           1.3          0.2  Iris-setosa\n",
              "3           4.6          3.1           1.5          0.2  Iris-setosa\n",
              "4           5.0          3.6           1.4          0.2  Iris-setosa"
            ]
          },
          "metadata": {
            "tags": []
          },
          "execution_count": 4
        }
      ]
    },
    {
      "cell_type": "code",
      "metadata": {
        "id": "b_sN2zQ5Jq2T",
        "colab_type": "code",
        "colab": {}
      },
      "source": [
        "X = iris.iloc[:, :-1]\n",
        "y = iris.iloc[:, -1]\n",
        "X_train, X_test, y_train, y_test = train_test_split(X, y, random_state=321)"
      ],
      "execution_count": 0,
      "outputs": []
    },
    {
      "cell_type": "code",
      "metadata": {
        "id": "nlapq95wD4_l",
        "colab_type": "code",
        "colab": {
          "base_uri": "https://localhost:8080/",
          "height": 34
        },
        "outputId": "074c3803-9810-47fc-bdaf-04b404ff7f0f"
      },
      "source": [
        "knn_model = knn_algorithm(X_train, y_train, 3)\n",
        "predictions = classifyData(X_test, knn_model)\n",
        "print(\"Accuracy: \", getAccuracy(y_test, predictions))"
      ],
      "execution_count": 81,
      "outputs": [
        {
          "output_type": "stream",
          "text": [
            "Accuracy:  98.0\n"
          ],
          "name": "stdout"
        }
      ]
    },
    {
      "cell_type": "markdown",
      "metadata": {
        "id": "5sm1lEY-QZNj",
        "colab_type": "text"
      },
      "source": [
        "### Sklearn Model"
      ]
    },
    {
      "cell_type": "code",
      "metadata": {
        "id": "owLiOYLiI1I-",
        "colab_type": "code",
        "colab": {}
      },
      "source": [
        "from sklearn.neighbors import KNeighborsClassifier\n",
        "from sklearn.metrics import accuracy_score"
      ],
      "execution_count": 0,
      "outputs": []
    },
    {
      "cell_type": "code",
      "metadata": {
        "id": "P4Hz2UG6Na9Q",
        "colab_type": "code",
        "outputId": "a76c1665-c10f-41c2-9eb6-23a0f439c9b4",
        "colab": {
          "base_uri": "https://localhost:8080/",
          "height": 69
        }
      },
      "source": [
        "sk_knn = KNeighborsClassifier(n_neighbors=3)\n",
        "sk_knn.fit(X_train, y_train)"
      ],
      "execution_count": 88,
      "outputs": [
        {
          "output_type": "execute_result",
          "data": {
            "text/plain": [
              "KNeighborsClassifier(algorithm='auto', leaf_size=30, metric='minkowski',\n",
              "                     metric_params=None, n_jobs=None, n_neighbors=3, p=2,\n",
              "                     weights='uniform')"
            ]
          },
          "metadata": {
            "tags": []
          },
          "execution_count": 88
        }
      ]
    },
    {
      "cell_type": "code",
      "metadata": {
        "id": "20VnhW7HNmQO",
        "colab_type": "code",
        "outputId": "f8dfaecf-a8d3-4955-a27f-ff6c713c6422",
        "colab": {
          "base_uri": "https://localhost:8080/",
          "height": 34
        }
      },
      "source": [
        "y_pred = sk_knn.predict(X_test)\n",
        "print(\"Accuracy: \", accuracy_score(y_pred, y_test)*100)"
      ],
      "execution_count": 89,
      "outputs": [
        {
          "output_type": "stream",
          "text": [
            "Accuracy:  98.0\n"
          ],
          "name": "stdout"
        }
      ]
    }
  ]
}
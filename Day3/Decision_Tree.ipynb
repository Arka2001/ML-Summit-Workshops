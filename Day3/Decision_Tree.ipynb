{
  "nbformat": 4,
  "nbformat_minor": 0,
  "metadata": {
    "colab": {
      "name": "Decision_Tree.ipynb",
      "provenance": [],
      "collapsed_sections": []
    },
    "kernelspec": {
      "name": "python3",
      "display_name": "Python 3"
    }
  },
  "cells": [
    {
      "cell_type": "markdown",
      "metadata": {
        "id": "1i7LTXTf_YT2",
        "colab_type": "text"
      },
      "source": [
        "# Decision Tree"
      ]
    },
    {
      "cell_type": "code",
      "metadata": {
        "id": "SB3m4EnZ0Jt0",
        "colab_type": "code",
        "colab": {}
      },
      "source": [
        "import numpy as np\n",
        "import pandas as pd\n",
        "\n",
        "import matplotlib.pyplot as plt\n",
        "import seaborn as sns\n",
        "\n",
        "import random\n",
        "from pprint import pprint\n",
        "%matplotlib inline\n",
        "\n",
        "import warnings\n",
        "warnings.filterwarnings('ignore')"
      ],
      "execution_count": 0,
      "outputs": []
    },
    {
      "cell_type": "markdown",
      "metadata": {
        "id": "aPewQni4_Ts_",
        "colab_type": "text"
      },
      "source": [
        "## Loading CSV Data"
      ]
    },
    {
      "cell_type": "code",
      "metadata": {
        "id": "MuVA0eJR3fbO",
        "colab_type": "code",
        "colab": {}
      },
      "source": [
        "def load_csv(data, columns=None, header=None):\n",
        "  banknote = pd.read_csv(data, header=header)\n",
        "  if columns != None:\n",
        "    banknote.columns = columns\n",
        "  return banknote"
      ],
      "execution_count": 0,
      "outputs": []
    },
    {
      "cell_type": "markdown",
      "metadata": {
        "id": "aDCFcUeBCC-e",
        "colab_type": "text"
      },
      "source": [
        "## Train Test Split"
      ]
    },
    {
      "cell_type": "code",
      "metadata": {
        "id": "ru1pO96V6Hcv",
        "colab_type": "code",
        "colab": {}
      },
      "source": [
        "def train_test_split(X, y=None, split_ratio=0.3, random_state=123, stype=\"separate\"):\n",
        "  np.random.seed(random_state)\n",
        "  if stype==\"separate\":\n",
        "    split = np.random.rand(X.shape[0]) < split_ratio\n",
        "    return X[~split], X[split], y[~split], y[split]\n",
        "  elif stype==\"whole\":\n",
        "    split = np.random.rand(X.shape[0]) < split_ratio\n",
        "    return X[~split], X[split] "
      ],
      "execution_count": 0,
      "outputs": []
    },
    {
      "cell_type": "markdown",
      "metadata": {
        "id": "5fXlN-CUCfZO",
        "colab_type": "text"
      },
      "source": [
        "## Purity of Data"
      ]
    },
    {
      "cell_type": "code",
      "metadata": {
        "id": "RDulRMnNCI_q",
        "colab_type": "code",
        "colab": {}
      },
      "source": [
        "def check_purity(data):\n",
        "    \n",
        "    label_column = data[:, -1]\n",
        "    unique_classes = np.unique(label_column)\n",
        "\n",
        "    if len(unique_classes) == 1:\n",
        "        return True\n",
        "    else:\n",
        "        return False\n"
      ],
      "execution_count": 0,
      "outputs": []
    },
    {
      "cell_type": "markdown",
      "metadata": {
        "id": "SjkMnUE3M8rr",
        "colab_type": "text"
      },
      "source": [
        "## Create Leaf"
      ]
    },
    {
      "cell_type": "code",
      "metadata": {
        "id": "rWLnYTSRM4sO",
        "colab_type": "code",
        "colab": {}
      },
      "source": [
        "def create_leaf(data, ml_task):\n",
        "    \n",
        "    label_column = data[:, -1]\n",
        "    if ml_task == \"regression\":\n",
        "        leaf = np.mean(label_column)\n",
        "        \n",
        "    # classfication    \n",
        "    else:\n",
        "        unique_classes, counts_unique_classes = np.unique(label_column, return_counts=True)\n",
        "        index = counts_unique_classes.argmax()\n",
        "        leaf = unique_classes[index]\n",
        "    \n",
        "    return leaf"
      ],
      "execution_count": 0,
      "outputs": []
    },
    {
      "cell_type": "markdown",
      "metadata": {
        "id": "hQa-1LQmDCdG",
        "colab_type": "text"
      },
      "source": [
        "## Judging Potential Splits"
      ]
    },
    {
      "cell_type": "code",
      "metadata": {
        "id": "a3ppr2ftCjoN",
        "colab_type": "code",
        "colab": {}
      },
      "source": [
        "def get_potential_splits(data):\n",
        "    \n",
        "    potential_splits = {}\n",
        "    _, n_columns = data.shape\n",
        "    for column_index in range(n_columns - 1):          # excluding the last column which is the label\n",
        "        values = data[:, column_index]\n",
        "        unique_values = np.unique(values)\n",
        "        \n",
        "        potential_splits[column_index] = unique_values\n",
        "    \n",
        "    return potential_splits"
      ],
      "execution_count": 0,
      "outputs": []
    },
    {
      "cell_type": "markdown",
      "metadata": {
        "id": "W6rw7lOVMJKo",
        "colab_type": "text"
      },
      "source": [
        "## Split Data"
      ]
    },
    {
      "cell_type": "code",
      "metadata": {
        "id": "4FaiIQUg80mr",
        "colab_type": "code",
        "colab": {}
      },
      "source": [
        "def split_data(data, split_column, split_value):\n",
        "    \n",
        "    split_column_values = data[:, split_column]\n",
        "\n",
        "    type_of_feature = FEATURE_TYPES[split_column]\n",
        "    if type_of_feature == \"continuous\":\n",
        "        data_below = data[split_column_values <= split_value]\n",
        "        data_above = data[split_column_values >  split_value]\n",
        "    \n",
        "    # feature is categorical   \n",
        "    else:\n",
        "        data_below = data[split_column_values == split_value]\n",
        "        data_above = data[split_column_values != split_value]\n",
        "    \n",
        "    return data_below, data_above"
      ],
      "execution_count": 0,
      "outputs": []
    },
    {
      "cell_type": "markdown",
      "metadata": {
        "id": "HMaCMefqPka7",
        "colab_type": "text"
      },
      "source": [
        "## Determine Best Split\n"
      ]
    },
    {
      "cell_type": "code",
      "metadata": {
        "id": "QbfDuFubPqZZ",
        "colab_type": "code",
        "colab": {}
      },
      "source": [
        "def calculate_mse(data):\n",
        "    actual_values = data[:, -1]\n",
        "    if len(actual_values) == 0:   # empty data\n",
        "        mse = 0\n",
        "        \n",
        "    else:\n",
        "        prediction = np.mean(actual_values)\n",
        "        mse = np.mean((actual_values - prediction) **2)\n",
        "    \n",
        "    return mse"
      ],
      "execution_count": 0,
      "outputs": []
    },
    {
      "cell_type": "code",
      "metadata": {
        "id": "HqoO6nBQRn-v",
        "colab_type": "code",
        "colab": {}
      },
      "source": [
        "def calculate_gini(data):\n",
        "    \n",
        "    label_column = data[:, -1]\n",
        "    _, counts = np.unique(label_column, return_counts=True)\n",
        "\n",
        "    probabilities = counts / counts.sum()\n",
        "    gini = 1 - sum(probabilities**2)\n",
        "     \n",
        "    return gini"
      ],
      "execution_count": 0,
      "outputs": []
    },
    {
      "cell_type": "code",
      "metadata": {
        "id": "i3nkmT6kDJ2_",
        "colab_type": "code",
        "colab": {}
      },
      "source": [
        "def calculate_entropy(data):\n",
        "    \n",
        "    label_column = data[:, -1]\n",
        "    _, counts = np.unique(label_column, return_counts=True)\n",
        "\n",
        "    probabilities = counts / counts.sum()\n",
        "    entropy = sum(probabilities * -np.log2(probabilities))\n",
        "     \n",
        "    return entropy\n"
      ],
      "execution_count": 0,
      "outputs": []
    },
    {
      "cell_type": "code",
      "metadata": {
        "id": "eLotm7ukDKm7",
        "colab_type": "code",
        "colab": {}
      },
      "source": [
        "def calculate_overall_metric(data_below, data_above, metric_function):\n",
        "    \n",
        "    n = len(data_below) + len(data_above)\n",
        "    p_data_below = len(data_below) / n\n",
        "    p_data_above = len(data_above) / n\n",
        "\n",
        "    overall_metric =  (p_data_below * metric_function(data_below) \n",
        "                     + p_data_above * metric_function(data_above))\n",
        "    \n",
        "    return overall_metric"
      ],
      "execution_count": 0,
      "outputs": []
    },
    {
      "cell_type": "code",
      "metadata": {
        "id": "kcU42ul9DOWJ",
        "colab_type": "code",
        "colab": {}
      },
      "source": [
        "def determine_best_split(data, potential_splits, criterion, ml_task):\n",
        "    \n",
        "    first_iteration = True\n",
        "    for column_index in potential_splits:\n",
        "        for value in potential_splits[column_index]:\n",
        "            data_below, data_above = split_data(data, split_column=column_index, split_value=value)\n",
        "            \n",
        "            if ml_task == \"regression\":\n",
        "                current_overall_metric = calculate_overall_metric(data_below, data_above, metric_function=calculate_mse)\n",
        "            \n",
        "            # classification\n",
        "            else:\n",
        "                if criterion==\"entropy\":\n",
        "                  current_overall_metric = calculate_overall_metric(data_below, data_above, metric_function=calculate_entropy)\n",
        "                elif criterion==\"gini\":\n",
        "                  current_overall_metric = calculate_overall_metric(data_below, data_above, metric_function=calculate_gini)\n",
        "\n",
        "            if first_iteration or current_overall_metric <= best_overall_metric:\n",
        "                first_iteration = False\n",
        "                \n",
        "                best_overall_metric = current_overall_metric\n",
        "                best_split_column = column_index\n",
        "                best_split_value = value\n",
        "    \n",
        "    return best_split_column, best_split_value\n"
      ],
      "execution_count": 0,
      "outputs": []
    },
    {
      "cell_type": "markdown",
      "metadata": {
        "id": "UPe6Rf2fD0ST",
        "colab_type": "text"
      },
      "source": [
        "# Decision Tree Algorithm\n",
        "\n",
        "## Determine Type of Feature\n"
      ]
    },
    {
      "cell_type": "code",
      "metadata": {
        "id": "B74SJ1DDMCT_",
        "colab_type": "code",
        "colab": {}
      },
      "source": [
        "def determine_type_of_feature(df):\n",
        "    \n",
        "    feature_types = []\n",
        "    n_unique_values_treshold = 15\n",
        "    for feature in df.columns:\n",
        "        if feature != \"label\":\n",
        "            unique_values = df[feature].unique()\n",
        "            example_value = unique_values[0]\n",
        "\n",
        "            if (isinstance(example_value, str)) or (len(unique_values) <= n_unique_values_treshold):\n",
        "                feature_types.append(\"categorical\")\n",
        "            else:\n",
        "                feature_types.append(\"continuous\")\n",
        "    \n",
        "    return feature_types"
      ],
      "execution_count": 0,
      "outputs": []
    },
    {
      "cell_type": "code",
      "metadata": {
        "id": "cJrN6seJDvMt",
        "colab_type": "code",
        "colab": {}
      },
      "source": [
        "def decision_tree_algorithm(df, criterion=\"entropy\", ml_task=\"classification\", counter=0, min_samples=2, max_depth=5):\n",
        "    \n",
        "    # data preparations\n",
        "    if counter == 0:\n",
        "        global COLUMN_HEADERS, FEATURE_TYPES\n",
        "        COLUMN_HEADERS = df.columns\n",
        "        FEATURE_TYPES = determine_type_of_feature(df)\n",
        "        data = df.values\n",
        "    else:\n",
        "        data = df           \n",
        "    \n",
        "    \n",
        "    # base cases\n",
        "    if (check_purity(data)) or (len(data) < min_samples) or (counter == max_depth):\n",
        "        leaf = create_leaf(data, ml_task)\n",
        "        return leaf\n",
        "\n",
        "    \n",
        "    # recursive part\n",
        "    else:    \n",
        "        counter += 1\n",
        "\n",
        "        # helper functions \n",
        "        potential_splits = get_potential_splits(data)\n",
        "        split_column, split_value = determine_best_split(data, potential_splits, criterion, ml_task)\n",
        "        data_below, data_above = split_data(data, split_column, split_value)\n",
        "        \n",
        "        # check for empty data\n",
        "        if len(data_below) == 0 or len(data_above) == 0:\n",
        "            leaf = create_leaf(data, ml_task)\n",
        "            return leaf\n",
        "        \n",
        "        # determine question\n",
        "        feature_name = COLUMN_HEADERS[split_column]\n",
        "        type_of_feature = FEATURE_TYPES[split_column]\n",
        "        if type_of_feature == \"continuous\":\n",
        "            question = \"{} <= {}\".format(feature_name, split_value)\n",
        "            \n",
        "        # feature is categorical\n",
        "        else:\n",
        "            question = \"{} = {}\".format(feature_name, split_value)\n",
        "        \n",
        "        # instantiate sub-tree\n",
        "        sub_tree = {question: []}\n",
        "        \n",
        "        # find answers (recursion)\n",
        "        yes_answer = decision_tree_algorithm(data_below, criterion, ml_task, counter, min_samples, max_depth)\n",
        "        no_answer = decision_tree_algorithm(data_above, criterion, ml_task, counter, min_samples, max_depth)\n",
        "        \n",
        "        # If the answers are the same, then there is no point in asking the qestion.\n",
        "        # This could happen when the data is classified even though it is not pure\n",
        "        # yet (min_samples or max_depth base case).\n",
        "        if yes_answer == no_answer:\n",
        "            sub_tree = yes_answer\n",
        "        else:\n",
        "            sub_tree[question].append(yes_answer)\n",
        "            sub_tree[question].append(no_answer)\n",
        "        \n",
        "        return sub_tree"
      ],
      "execution_count": 0,
      "outputs": []
    },
    {
      "cell_type": "markdown",
      "metadata": {
        "id": "ckPL0ijrNQCC",
        "colab_type": "text"
      },
      "source": [
        "## Classification Task"
      ]
    },
    {
      "cell_type": "code",
      "metadata": {
        "id": "CO8B2OP1JHuM",
        "colab_type": "code",
        "colab": {}
      },
      "source": [
        "def classify_example(example, tree):\n",
        "    question = list(tree.keys())[0]\n",
        "    feature_name, comparison_operator, value = question.split()\n",
        "\n",
        "    # ask question\n",
        "    if example[feature_name] <= float(value):\n",
        "        answer = tree[question][0]\n",
        "    else:\n",
        "        answer = tree[question][1]\n",
        "\n",
        "    # base case\n",
        "    if not isinstance(answer, dict):\n",
        "        return answer\n",
        "    \n",
        "    # recursive part\n",
        "    else:\n",
        "        residual_tree = answer\n",
        "        return classify_example(example, residual_tree)"
      ],
      "execution_count": 0,
      "outputs": []
    },
    {
      "cell_type": "code",
      "metadata": {
        "id": "NVTFaPYMI1V2",
        "colab_type": "code",
        "colab": {}
      },
      "source": [
        "def calculate_accuracy(df, tree, label_class=\"class\"):\n",
        "\n",
        "    df[\"classification\"] = df.apply(classify_example, axis=1, args=(tree,))\n",
        "    df[\"classification_correct\"] = df[\"classification\"] == df[label_class]\n",
        "    \n",
        "    accuracy = df[\"classification_correct\"].mean()\n",
        "    \n",
        "    return accuracy"
      ],
      "execution_count": 0,
      "outputs": []
    },
    {
      "cell_type": "markdown",
      "metadata": {
        "id": "uMtMmgk-NtRz",
        "colab_type": "text"
      },
      "source": [
        "## Regression Task"
      ]
    },
    {
      "cell_type": "code",
      "metadata": {
        "id": "khvD0DhxNvxg",
        "colab_type": "code",
        "colab": {}
      },
      "source": [
        "def predict_example(example, tree):\n",
        "    question = list(tree.keys())[0]\n",
        "    feature_name, comparison_operator, value = question.split(\" \")\n",
        "\n",
        "    # ask question\n",
        "    if comparison_operator == \"<=\":\n",
        "        if example[feature_name] <= float(value):\n",
        "            answer = tree[question][0]\n",
        "        else:\n",
        "            answer = tree[question][1]\n",
        "    \n",
        "    # feature is categorical\n",
        "    else:\n",
        "        if str(example[feature_name]) == value:\n",
        "            answer = tree[question][0]\n",
        "        else:\n",
        "            answer = tree[question][1]\n",
        "\n",
        "    # base case\n",
        "    if not isinstance(answer, dict):\n",
        "        return answer\n",
        "    \n",
        "    # recursive part\n",
        "    else:\n",
        "        residual_tree = answer\n",
        "        return predict_example(example, residual_tree)"
      ],
      "execution_count": 0,
      "outputs": []
    },
    {
      "cell_type": "code",
      "metadata": {
        "id": "XjbOpZoGOSWx",
        "colab_type": "code",
        "colab": {}
      },
      "source": [
        "def calculate_r_squared(df, tree):    \n",
        "    labels = df.label\n",
        "    mean = labels.mean()\n",
        "    predictions = df.apply(predict_example, args=(tree,), axis=1)\n",
        "\n",
        "    ss_res = sum((labels - predictions) ** 2)\n",
        "    ss_tot = sum((labels - mean) ** 2)\n",
        "    r_squared = 1 - ss_res / ss_tot\n",
        "    \n",
        "    return r_squared"
      ],
      "execution_count": 0,
      "outputs": []
    },
    {
      "cell_type": "markdown",
      "metadata": {
        "id": "v8xxl7L9mcXr",
        "colab_type": "text"
      },
      "source": [
        "# Running our Decision Tree Classifier vs Sklearn Decision Tree Classifier"
      ]
    },
    {
      "cell_type": "code",
      "metadata": {
        "id": "5lNgy7Su1gR2",
        "colab_type": "code",
        "outputId": "f94691e9-64a6-4222-8da6-1a44ed423e71",
        "colab": {
          "base_uri": "https://localhost:8080/",
          "height": 206
        }
      },
      "source": [
        "columns = ['variance', 'skewness', 'curtosis', 'entropy', 'class']\n",
        "data = \"https://archive.ics.uci.edu/ml/machine-learning-databases/00267/data_banknote_authentication.txt\"\n",
        "banknote = load_csv(data, columns)\n",
        "banknote.head()"
      ],
      "execution_count": 19,
      "outputs": [
        {
          "output_type": "execute_result",
          "data": {
            "text/html": [
              "<div>\n",
              "<style scoped>\n",
              "    .dataframe tbody tr th:only-of-type {\n",
              "        vertical-align: middle;\n",
              "    }\n",
              "\n",
              "    .dataframe tbody tr th {\n",
              "        vertical-align: top;\n",
              "    }\n",
              "\n",
              "    .dataframe thead th {\n",
              "        text-align: right;\n",
              "    }\n",
              "</style>\n",
              "<table border=\"1\" class=\"dataframe\">\n",
              "  <thead>\n",
              "    <tr style=\"text-align: right;\">\n",
              "      <th></th>\n",
              "      <th>variance</th>\n",
              "      <th>skewness</th>\n",
              "      <th>curtosis</th>\n",
              "      <th>entropy</th>\n",
              "      <th>class</th>\n",
              "    </tr>\n",
              "  </thead>\n",
              "  <tbody>\n",
              "    <tr>\n",
              "      <th>0</th>\n",
              "      <td>3.62160</td>\n",
              "      <td>8.6661</td>\n",
              "      <td>-2.8073</td>\n",
              "      <td>-0.44699</td>\n",
              "      <td>0</td>\n",
              "    </tr>\n",
              "    <tr>\n",
              "      <th>1</th>\n",
              "      <td>4.54590</td>\n",
              "      <td>8.1674</td>\n",
              "      <td>-2.4586</td>\n",
              "      <td>-1.46210</td>\n",
              "      <td>0</td>\n",
              "    </tr>\n",
              "    <tr>\n",
              "      <th>2</th>\n",
              "      <td>3.86600</td>\n",
              "      <td>-2.6383</td>\n",
              "      <td>1.9242</td>\n",
              "      <td>0.10645</td>\n",
              "      <td>0</td>\n",
              "    </tr>\n",
              "    <tr>\n",
              "      <th>3</th>\n",
              "      <td>3.45660</td>\n",
              "      <td>9.5228</td>\n",
              "      <td>-4.0112</td>\n",
              "      <td>-3.59440</td>\n",
              "      <td>0</td>\n",
              "    </tr>\n",
              "    <tr>\n",
              "      <th>4</th>\n",
              "      <td>0.32924</td>\n",
              "      <td>-4.4552</td>\n",
              "      <td>4.5718</td>\n",
              "      <td>-0.98880</td>\n",
              "      <td>0</td>\n",
              "    </tr>\n",
              "  </tbody>\n",
              "</table>\n",
              "</div>"
            ],
            "text/plain": [
              "   variance  skewness  curtosis  entropy  class\n",
              "0   3.62160    8.6661   -2.8073 -0.44699      0\n",
              "1   4.54590    8.1674   -2.4586 -1.46210      0\n",
              "2   3.86600   -2.6383    1.9242  0.10645      0\n",
              "3   3.45660    9.5228   -4.0112 -3.59440      0\n",
              "4   0.32924   -4.4552    4.5718 -0.98880      0"
            ]
          },
          "metadata": {
            "tags": []
          },
          "execution_count": 19
        }
      ]
    },
    {
      "cell_type": "code",
      "metadata": {
        "id": "awXypVOC1wed",
        "colab_type": "code",
        "outputId": "e4afe3ee-f972-499e-e7ab-d07284fe5f00",
        "colab": {
          "base_uri": "https://localhost:8080/",
          "height": 34
        }
      },
      "source": [
        "banknote.shape"
      ],
      "execution_count": 20,
      "outputs": [
        {
          "output_type": "execute_result",
          "data": {
            "text/plain": [
              "(1372, 5)"
            ]
          },
          "metadata": {
            "tags": []
          },
          "execution_count": 20
        }
      ]
    },
    {
      "cell_type": "code",
      "metadata": {
        "id": "qEumgDHY84g2",
        "colab_type": "code",
        "outputId": "ef5196e4-a14e-43e8-ab65-b0eef52b4adb",
        "colab": {
          "base_uri": "https://localhost:8080/",
          "height": 225
        }
      },
      "source": [
        "# Selecting X and y\n",
        "X = banknote.iloc[:, :-1]\n",
        "y = banknote.iloc[:,-1]\n",
        "print(X.head())\n",
        "print(y.head())"
      ],
      "execution_count": 21,
      "outputs": [
        {
          "output_type": "stream",
          "text": [
            "   variance  skewness  curtosis  entropy\n",
            "0   3.62160    8.6661   -2.8073 -0.44699\n",
            "1   4.54590    8.1674   -2.4586 -1.46210\n",
            "2   3.86600   -2.6383    1.9242  0.10645\n",
            "3   3.45660    9.5228   -4.0112 -3.59440\n",
            "4   0.32924   -4.4552    4.5718 -0.98880\n",
            "0    0\n",
            "1    0\n",
            "2    0\n",
            "3    0\n",
            "4    0\n",
            "Name: class, dtype: int64\n"
          ],
          "name": "stdout"
        }
      ]
    },
    {
      "cell_type": "code",
      "metadata": {
        "id": "uPgHW6mI-Pfu",
        "colab_type": "code",
        "outputId": "40ff1c6a-7210-42f0-d6c5-8d3bfd764ba1",
        "colab": {
          "base_uri": "https://localhost:8080/",
          "height": 121
        }
      },
      "source": [
        "# Train and Test split\n",
        "X_train, X_test, y_train, y_test = train_test_split(X, y=y)\n",
        "print(X_train.shape)\n",
        "print(X_test.shape)\n",
        "print(y_train.shape)\n",
        "print(y_test.shape)\n",
        "data_train, data_test = train_test_split(banknote, stype=\"whole\")\n",
        "print(data_train.shape)\n",
        "print(data_test.shape)"
      ],
      "execution_count": 22,
      "outputs": [
        {
          "output_type": "stream",
          "text": [
            "(952, 4)\n",
            "(420, 4)\n",
            "(952,)\n",
            "(420,)\n",
            "(952, 5)\n",
            "(420, 5)\n"
          ],
          "name": "stdout"
        }
      ]
    },
    {
      "cell_type": "code",
      "metadata": {
        "id": "PTxrS9xPDR9s",
        "colab_type": "code",
        "outputId": "a68f93e4-071c-42e7-e1e9-45acd7eb1994",
        "colab": {
          "base_uri": "https://localhost:8080/",
          "height": 139
        }
      },
      "source": [
        "ntree_entropy = decision_tree_algorithm(data_train, criterion=\"entropy\", ml_task=\"classification\", max_depth=3, min_samples=5)\n",
        "pprint(ntree_entropy)"
      ],
      "execution_count": 23,
      "outputs": [
        {
          "output_type": "stream",
          "text": [
            "{'variance <= 0.31803000000000003': [{'skewness <= 5.8333': [1.0,\n",
            "                                                             {'variance <= -4.1479': [1.0,\n",
            "                                                                                      0.0]}]},\n",
            "                                     {'variance <= 1.7331': [{'curtosis <= -2.2726': [1.0,\n",
            "                                                                                      0.0]},\n",
            "                                                             {'curtosis <= -4.8037': [1.0,\n",
            "                                                                                      0.0]}]}]}\n"
          ],
          "name": "stdout"
        }
      ]
    },
    {
      "cell_type": "code",
      "metadata": {
        "id": "gE8qnT2FI_yZ",
        "colab_type": "code",
        "outputId": "fe454439-3b9f-4406-fe8f-188b5a886034",
        "colab": {
          "base_uri": "https://localhost:8080/",
          "height": 34
        }
      },
      "source": [
        "accuracy = calculate_accuracy(data_test, ntree_entropy)\n",
        "accuracy"
      ],
      "execution_count": 24,
      "outputs": [
        {
          "output_type": "execute_result",
          "data": {
            "text/plain": [
              "0.9619047619047619"
            ]
          },
          "metadata": {
            "tags": []
          },
          "execution_count": 24
        }
      ]
    },
    {
      "cell_type": "code",
      "metadata": {
        "id": "o9HT9CuIJDEk",
        "colab_type": "code",
        "colab": {}
      },
      "source": [
        "from sklearn.model_selection import train_test_split\n",
        "from sklearn.tree import DecisionTreeClassifier\n",
        "from sklearn.metrics import accuracy_score\n",
        "from sklearn import tree"
      ],
      "execution_count": 0,
      "outputs": []
    },
    {
      "cell_type": "code",
      "metadata": {
        "id": "eNQLfCJqLvJr",
        "colab_type": "code",
        "outputId": "c06fd3d3-4915-4f53-a7c0-8d013b094168",
        "colab": {
          "base_uri": "https://localhost:8080/",
          "height": 121
        }
      },
      "source": [
        "clf_entropy = DecisionTreeClassifier(criterion = \"entropy\", random_state = 100,\n",
        "                               max_depth=3, min_samples_leaf=5)\n",
        "clf_entropy.fit(X_train, y_train)"
      ],
      "execution_count": 26,
      "outputs": [
        {
          "output_type": "execute_result",
          "data": {
            "text/plain": [
              "DecisionTreeClassifier(ccp_alpha=0.0, class_weight=None, criterion='entropy',\n",
              "                       max_depth=3, max_features=None, max_leaf_nodes=None,\n",
              "                       min_impurity_decrease=0.0, min_impurity_split=None,\n",
              "                       min_samples_leaf=5, min_samples_split=2,\n",
              "                       min_weight_fraction_leaf=0.0, presort='deprecated',\n",
              "                       random_state=100, splitter='best')"
            ]
          },
          "metadata": {
            "tags": []
          },
          "execution_count": 26
        }
      ]
    },
    {
      "cell_type": "code",
      "metadata": {
        "id": "Qs10osrPQLz2",
        "colab_type": "code",
        "outputId": "2c462e1f-24c9-4087-f92d-ddffaea8fd13",
        "colab": {
          "base_uri": "https://localhost:8080/",
          "height": 34
        }
      },
      "source": [
        "y_pred = clf_entropy.predict(X_test)\n",
        "#print(y_pred)\n",
        "print (\"Accuracy is \", accuracy_score(y_test,y_pred)*100)"
      ],
      "execution_count": 27,
      "outputs": [
        {
          "output_type": "stream",
          "text": [
            "Accuracy is  96.19047619047619\n"
          ],
          "name": "stdout"
        }
      ]
    },
    {
      "cell_type": "markdown",
      "metadata": {
        "id": "ZPN9EEsfoXUk",
        "colab_type": "text"
      },
      "source": [
        "## Save Tree as Png"
      ]
    },
    {
      "cell_type": "code",
      "metadata": {
        "id": "FZIVhlEqQUAN",
        "colab_type": "code",
        "colab": {}
      },
      "source": [
        "import pydotplus\n",
        "import collections\n",
        "## sudo apt-get install graphviz\n",
        "def visualize_graph(clf,features,name):\n",
        "    # Visualize data\n",
        "    dot_data = tree.export_graphviz(clf,\n",
        "                                    feature_names=features,\n",
        "                                    out_file=None,\n",
        "                                    filled=True,\n",
        "                                    rounded=True)\n",
        "    graph = pydotplus.graph_from_dot_data(dot_data)\n",
        "    \n",
        "    colors = ('turquoise', 'orange')\n",
        "    edges = collections.defaultdict(list)\n",
        "    \n",
        "    for edge in graph.get_edge_list():\n",
        "        edges[edge.get_source()].append(int(edge.get_destination()))\n",
        "    \n",
        "    for edge in edges:\n",
        "        edges[edge].sort()    \n",
        "        for i in range(2):\n",
        "            dest = graph.get_node(str(edges[edge][i]))[0]\n",
        "            dest.set_fillcolor(colors[i])\n",
        "    \n",
        "    graph.write_png(name+\".png\")"
      ],
      "execution_count": 0,
      "outputs": []
    },
    {
      "cell_type": "code",
      "metadata": {
        "id": "pdjMxZDoQbl7",
        "colab_type": "code",
        "colab": {}
      },
      "source": [
        "visualize_graph(clf_entropy,banknote.columns[:-1],\"dt_en\")"
      ],
      "execution_count": 0,
      "outputs": []
    },
    {
      "cell_type": "markdown",
      "metadata": {
        "id": "CY-f67JujHZH",
        "colab_type": "text"
      },
      "source": [
        "**Let's Try the Same With Gini**\n",
        "\n",
        "## Our Classifier"
      ]
    },
    {
      "cell_type": "code",
      "metadata": {
        "id": "jyaamluDRGiz",
        "colab_type": "code",
        "outputId": "fa3b6eae-abb4-4a1d-d98e-f2f02804e4e9",
        "colab": {
          "base_uri": "https://localhost:8080/",
          "height": 139
        }
      },
      "source": [
        "ntree = decision_tree_algorithm(data_train, criterion=\"gini\", ml_task=\"classification\", max_depth=3, min_samples=5)\n",
        "pprint(ntree)\n",
        "accuracy = calculate_accuracy(data_test, ntree)\n",
        "print(accuracy)"
      ],
      "execution_count": 30,
      "outputs": [
        {
          "output_type": "stream",
          "text": [
            "{'variance <= 0.31803000000000003': [{'skewness <= 5.8333': [1.0,\n",
            "                                                             {'variance <= -4.1479': [1.0,\n",
            "                                                                                      0.0]}]},\n",
            "                                     {'curtosis <= -4.3882': [{'skewness <= 5.2022': [1.0,\n",
            "                                                                                      0.0]},\n",
            "                                                              0.0]}]}\n",
            "0.9428571428571428\n"
          ],
          "name": "stdout"
        }
      ]
    },
    {
      "cell_type": "markdown",
      "metadata": {
        "id": "Ijx6VXTqoOFU",
        "colab_type": "text"
      },
      "source": [
        "## Sklearn Classifier"
      ]
    },
    {
      "cell_type": "code",
      "metadata": {
        "id": "CHoXjn4MjTma",
        "colab_type": "code",
        "outputId": "9c176e22-c9eb-4658-8fdd-af101e70babb",
        "colab": {
          "base_uri": "https://localhost:8080/",
          "height": 34
        }
      },
      "source": [
        "clf_gini = DecisionTreeClassifier(criterion = \"gini\", random_state = 100,\n",
        "                               max_depth=3, min_samples_leaf=5)\n",
        "clf_gini.fit(X_train, y_train)\n",
        "\n",
        "y_pred = clf_gini.predict(X_test)\n",
        "#print(y_pred)\n",
        "print (\"Accuracy is \", accuracy_score(y_test,y_pred)*100)"
      ],
      "execution_count": 31,
      "outputs": [
        {
          "output_type": "stream",
          "text": [
            "Accuracy is  94.28571428571428\n"
          ],
          "name": "stdout"
        }
      ]
    },
    {
      "cell_type": "code",
      "metadata": {
        "id": "meryDnCbjdMU",
        "colab_type": "code",
        "colab": {}
      },
      "source": [
        "visualize_graph(clf_gini,banknote.columns[:-1],\"dt_gi\")"
      ],
      "execution_count": 0,
      "outputs": []
    },
    {
      "cell_type": "markdown",
      "metadata": {
        "id": "jAStjccGmveU",
        "colab_type": "text"
      },
      "source": [
        "# Running our Decision Tree Classifier vs Sklearn Decision Tree Classifier"
      ]
    },
    {
      "cell_type": "code",
      "metadata": {
        "id": "qQhQYuT4mu6z",
        "colab_type": "code",
        "outputId": "08773141-c734-42ba-d1e5-bc602c7c229a",
        "colab": {
          "base_uri": "https://localhost:8080/",
          "height": 226
        }
      },
      "source": [
        "#!wget \"https://archive.ics.uci.edu/ml/bike-learning-databases/00275/Bike-Sharing-Dataset.zip\"\n",
        "#!unzip Bike-Sharing-Dataset.zip\n",
        "data = \"hour.csv\"\n",
        "bike = load_csv(data, header=0)\n",
        "bike.head()"
      ],
      "execution_count": 33,
      "outputs": [
        {
          "output_type": "execute_result",
          "data": {
            "text/html": [
              "<div>\n",
              "<style scoped>\n",
              "    .dataframe tbody tr th:only-of-type {\n",
              "        vertical-align: middle;\n",
              "    }\n",
              "\n",
              "    .dataframe tbody tr th {\n",
              "        vertical-align: top;\n",
              "    }\n",
              "\n",
              "    .dataframe thead th {\n",
              "        text-align: right;\n",
              "    }\n",
              "</style>\n",
              "<table border=\"1\" class=\"dataframe\">\n",
              "  <thead>\n",
              "    <tr style=\"text-align: right;\">\n",
              "      <th></th>\n",
              "      <th>instant</th>\n",
              "      <th>dteday</th>\n",
              "      <th>season</th>\n",
              "      <th>yr</th>\n",
              "      <th>mnth</th>\n",
              "      <th>hr</th>\n",
              "      <th>holiday</th>\n",
              "      <th>weekday</th>\n",
              "      <th>workingday</th>\n",
              "      <th>weathersit</th>\n",
              "      <th>temp</th>\n",
              "      <th>atemp</th>\n",
              "      <th>hum</th>\n",
              "      <th>windspeed</th>\n",
              "      <th>casual</th>\n",
              "      <th>registered</th>\n",
              "      <th>cnt</th>\n",
              "    </tr>\n",
              "  </thead>\n",
              "  <tbody>\n",
              "    <tr>\n",
              "      <th>0</th>\n",
              "      <td>1</td>\n",
              "      <td>2011-01-01</td>\n",
              "      <td>1</td>\n",
              "      <td>0</td>\n",
              "      <td>1</td>\n",
              "      <td>0</td>\n",
              "      <td>0</td>\n",
              "      <td>6</td>\n",
              "      <td>0</td>\n",
              "      <td>1</td>\n",
              "      <td>0.24</td>\n",
              "      <td>0.2879</td>\n",
              "      <td>0.81</td>\n",
              "      <td>0.0</td>\n",
              "      <td>3</td>\n",
              "      <td>13</td>\n",
              "      <td>16</td>\n",
              "    </tr>\n",
              "    <tr>\n",
              "      <th>1</th>\n",
              "      <td>2</td>\n",
              "      <td>2011-01-01</td>\n",
              "      <td>1</td>\n",
              "      <td>0</td>\n",
              "      <td>1</td>\n",
              "      <td>1</td>\n",
              "      <td>0</td>\n",
              "      <td>6</td>\n",
              "      <td>0</td>\n",
              "      <td>1</td>\n",
              "      <td>0.22</td>\n",
              "      <td>0.2727</td>\n",
              "      <td>0.80</td>\n",
              "      <td>0.0</td>\n",
              "      <td>8</td>\n",
              "      <td>32</td>\n",
              "      <td>40</td>\n",
              "    </tr>\n",
              "    <tr>\n",
              "      <th>2</th>\n",
              "      <td>3</td>\n",
              "      <td>2011-01-01</td>\n",
              "      <td>1</td>\n",
              "      <td>0</td>\n",
              "      <td>1</td>\n",
              "      <td>2</td>\n",
              "      <td>0</td>\n",
              "      <td>6</td>\n",
              "      <td>0</td>\n",
              "      <td>1</td>\n",
              "      <td>0.22</td>\n",
              "      <td>0.2727</td>\n",
              "      <td>0.80</td>\n",
              "      <td>0.0</td>\n",
              "      <td>5</td>\n",
              "      <td>27</td>\n",
              "      <td>32</td>\n",
              "    </tr>\n",
              "    <tr>\n",
              "      <th>3</th>\n",
              "      <td>4</td>\n",
              "      <td>2011-01-01</td>\n",
              "      <td>1</td>\n",
              "      <td>0</td>\n",
              "      <td>1</td>\n",
              "      <td>3</td>\n",
              "      <td>0</td>\n",
              "      <td>6</td>\n",
              "      <td>0</td>\n",
              "      <td>1</td>\n",
              "      <td>0.24</td>\n",
              "      <td>0.2879</td>\n",
              "      <td>0.75</td>\n",
              "      <td>0.0</td>\n",
              "      <td>3</td>\n",
              "      <td>10</td>\n",
              "      <td>13</td>\n",
              "    </tr>\n",
              "    <tr>\n",
              "      <th>4</th>\n",
              "      <td>5</td>\n",
              "      <td>2011-01-01</td>\n",
              "      <td>1</td>\n",
              "      <td>0</td>\n",
              "      <td>1</td>\n",
              "      <td>4</td>\n",
              "      <td>0</td>\n",
              "      <td>6</td>\n",
              "      <td>0</td>\n",
              "      <td>1</td>\n",
              "      <td>0.24</td>\n",
              "      <td>0.2879</td>\n",
              "      <td>0.75</td>\n",
              "      <td>0.0</td>\n",
              "      <td>0</td>\n",
              "      <td>1</td>\n",
              "      <td>1</td>\n",
              "    </tr>\n",
              "  </tbody>\n",
              "</table>\n",
              "</div>"
            ],
            "text/plain": [
              "   instant      dteday  season  yr  ...  windspeed  casual  registered  cnt\n",
              "0        1  2011-01-01       1   0  ...        0.0       3          13   16\n",
              "1        2  2011-01-01       1   0  ...        0.0       8          32   40\n",
              "2        3  2011-01-01       1   0  ...        0.0       5          27   32\n",
              "3        4  2011-01-01       1   0  ...        0.0       3          10   13\n",
              "4        5  2011-01-01       1   0  ...        0.0       0           1    1\n",
              "\n",
              "[5 rows x 17 columns]"
            ]
          },
          "metadata": {
            "tags": []
          },
          "execution_count": 33
        }
      ]
    },
    {
      "cell_type": "code",
      "metadata": {
        "id": "14czlp45JLag",
        "colab_type": "code",
        "colab": {
          "base_uri": "https://localhost:8080/",
          "height": 226
        },
        "outputId": "99314722-60a5-4216-e356-7cc2544bfcae"
      },
      "source": [
        "bike = bike.drop([\"instant\", \"casual\", \"registered\"], axis=1)\n",
        "bike = bike.rename({\"dteday\": \"date\"}, axis=1)\n",
        "bike.head()"
      ],
      "execution_count": 34,
      "outputs": [
        {
          "output_type": "execute_result",
          "data": {
            "text/html": [
              "<div>\n",
              "<style scoped>\n",
              "    .dataframe tbody tr th:only-of-type {\n",
              "        vertical-align: middle;\n",
              "    }\n",
              "\n",
              "    .dataframe tbody tr th {\n",
              "        vertical-align: top;\n",
              "    }\n",
              "\n",
              "    .dataframe thead th {\n",
              "        text-align: right;\n",
              "    }\n",
              "</style>\n",
              "<table border=\"1\" class=\"dataframe\">\n",
              "  <thead>\n",
              "    <tr style=\"text-align: right;\">\n",
              "      <th></th>\n",
              "      <th>date</th>\n",
              "      <th>season</th>\n",
              "      <th>yr</th>\n",
              "      <th>mnth</th>\n",
              "      <th>hr</th>\n",
              "      <th>holiday</th>\n",
              "      <th>weekday</th>\n",
              "      <th>workingday</th>\n",
              "      <th>weathersit</th>\n",
              "      <th>temp</th>\n",
              "      <th>atemp</th>\n",
              "      <th>hum</th>\n",
              "      <th>windspeed</th>\n",
              "      <th>cnt</th>\n",
              "    </tr>\n",
              "  </thead>\n",
              "  <tbody>\n",
              "    <tr>\n",
              "      <th>0</th>\n",
              "      <td>2011-01-01</td>\n",
              "      <td>1</td>\n",
              "      <td>0</td>\n",
              "      <td>1</td>\n",
              "      <td>0</td>\n",
              "      <td>0</td>\n",
              "      <td>6</td>\n",
              "      <td>0</td>\n",
              "      <td>1</td>\n",
              "      <td>0.24</td>\n",
              "      <td>0.2879</td>\n",
              "      <td>0.81</td>\n",
              "      <td>0.0</td>\n",
              "      <td>16</td>\n",
              "    </tr>\n",
              "    <tr>\n",
              "      <th>1</th>\n",
              "      <td>2011-01-01</td>\n",
              "      <td>1</td>\n",
              "      <td>0</td>\n",
              "      <td>1</td>\n",
              "      <td>1</td>\n",
              "      <td>0</td>\n",
              "      <td>6</td>\n",
              "      <td>0</td>\n",
              "      <td>1</td>\n",
              "      <td>0.22</td>\n",
              "      <td>0.2727</td>\n",
              "      <td>0.80</td>\n",
              "      <td>0.0</td>\n",
              "      <td>40</td>\n",
              "    </tr>\n",
              "    <tr>\n",
              "      <th>2</th>\n",
              "      <td>2011-01-01</td>\n",
              "      <td>1</td>\n",
              "      <td>0</td>\n",
              "      <td>1</td>\n",
              "      <td>2</td>\n",
              "      <td>0</td>\n",
              "      <td>6</td>\n",
              "      <td>0</td>\n",
              "      <td>1</td>\n",
              "      <td>0.22</td>\n",
              "      <td>0.2727</td>\n",
              "      <td>0.80</td>\n",
              "      <td>0.0</td>\n",
              "      <td>32</td>\n",
              "    </tr>\n",
              "    <tr>\n",
              "      <th>3</th>\n",
              "      <td>2011-01-01</td>\n",
              "      <td>1</td>\n",
              "      <td>0</td>\n",
              "      <td>1</td>\n",
              "      <td>3</td>\n",
              "      <td>0</td>\n",
              "      <td>6</td>\n",
              "      <td>0</td>\n",
              "      <td>1</td>\n",
              "      <td>0.24</td>\n",
              "      <td>0.2879</td>\n",
              "      <td>0.75</td>\n",
              "      <td>0.0</td>\n",
              "      <td>13</td>\n",
              "    </tr>\n",
              "    <tr>\n",
              "      <th>4</th>\n",
              "      <td>2011-01-01</td>\n",
              "      <td>1</td>\n",
              "      <td>0</td>\n",
              "      <td>1</td>\n",
              "      <td>4</td>\n",
              "      <td>0</td>\n",
              "      <td>6</td>\n",
              "      <td>0</td>\n",
              "      <td>1</td>\n",
              "      <td>0.24</td>\n",
              "      <td>0.2879</td>\n",
              "      <td>0.75</td>\n",
              "      <td>0.0</td>\n",
              "      <td>1</td>\n",
              "    </tr>\n",
              "  </tbody>\n",
              "</table>\n",
              "</div>"
            ],
            "text/plain": [
              "         date  season  yr  mnth  hr  ...  temp   atemp   hum  windspeed  cnt\n",
              "0  2011-01-01       1   0     1   0  ...  0.24  0.2879  0.81        0.0   16\n",
              "1  2011-01-01       1   0     1   1  ...  0.22  0.2727  0.80        0.0   40\n",
              "2  2011-01-01       1   0     1   2  ...  0.22  0.2727  0.80        0.0   32\n",
              "3  2011-01-01       1   0     1   3  ...  0.24  0.2879  0.75        0.0   13\n",
              "4  2011-01-01       1   0     1   4  ...  0.24  0.2879  0.75        0.0    1\n",
              "\n",
              "[5 rows x 14 columns]"
            ]
          },
          "metadata": {
            "tags": []
          },
          "execution_count": 34
        }
      ]
    },
    {
      "cell_type": "code",
      "metadata": {
        "id": "x3WNw_8oJkGZ",
        "colab_type": "code",
        "colab": {}
      },
      "source": [
        "bike['date'] = pd.to_datetime(bike['date'], errors='coerce')\n",
        "date_column = bike.date\n",
        "\n",
        "bike[\"day_of_year\"] = date_column.dt.dayofyear\n",
        "bike[\"day_of_month\"] = date_column.dt.day\n",
        "\n",
        "bike[\"quarter\"] = date_column.dt.quarter\n",
        "bike[\"week\"] = date_column.dt.week\n",
        "\n",
        "bike[\"is_month_end\"] = date_column.dt.is_month_end\n",
        "bike[\"is_month_start\"] = date_column.dt.is_month_start\n",
        "bike[\"is_quarter_end\"] = date_column.dt.is_quarter_end\n",
        "bike[\"is_quarter_start\"] = date_column.dt.is_quarter_start\n",
        "bike[\"is_year_end\"] = date_column.dt.is_year_end\n",
        "bike[\"is_year_start\"] = date_column.dt.is_year_start\n",
        "\n",
        "bike = bike.set_index(\"date\")"
      ],
      "execution_count": 0,
      "outputs": []
    },
    {
      "cell_type": "code",
      "metadata": {
        "id": "rFuDk30NTqGt",
        "colab_type": "code",
        "colab": {}
      },
      "source": [
        "bike[\"label\"] = bike.cnt\n",
        "bike = bike.drop(\"cnt\", axis=1)"
      ],
      "execution_count": 0,
      "outputs": []
    },
    {
      "cell_type": "code",
      "metadata": {
        "id": "-fuqgeRKTwBb",
        "colab_type": "code",
        "colab": {
          "base_uri": "https://localhost:8080/",
          "height": 258
        },
        "outputId": "2b45a047-6bd4-46c5-ee1c-24e2b771b905"
      },
      "source": [
        "bike.head()"
      ],
      "execution_count": 37,
      "outputs": [
        {
          "output_type": "execute_result",
          "data": {
            "text/html": [
              "<div>\n",
              "<style scoped>\n",
              "    .dataframe tbody tr th:only-of-type {\n",
              "        vertical-align: middle;\n",
              "    }\n",
              "\n",
              "    .dataframe tbody tr th {\n",
              "        vertical-align: top;\n",
              "    }\n",
              "\n",
              "    .dataframe thead th {\n",
              "        text-align: right;\n",
              "    }\n",
              "</style>\n",
              "<table border=\"1\" class=\"dataframe\">\n",
              "  <thead>\n",
              "    <tr style=\"text-align: right;\">\n",
              "      <th></th>\n",
              "      <th>season</th>\n",
              "      <th>yr</th>\n",
              "      <th>mnth</th>\n",
              "      <th>hr</th>\n",
              "      <th>holiday</th>\n",
              "      <th>weekday</th>\n",
              "      <th>workingday</th>\n",
              "      <th>weathersit</th>\n",
              "      <th>temp</th>\n",
              "      <th>atemp</th>\n",
              "      <th>hum</th>\n",
              "      <th>windspeed</th>\n",
              "      <th>day_of_year</th>\n",
              "      <th>day_of_month</th>\n",
              "      <th>quarter</th>\n",
              "      <th>week</th>\n",
              "      <th>is_month_end</th>\n",
              "      <th>is_month_start</th>\n",
              "      <th>is_quarter_end</th>\n",
              "      <th>is_quarter_start</th>\n",
              "      <th>is_year_end</th>\n",
              "      <th>is_year_start</th>\n",
              "      <th>label</th>\n",
              "    </tr>\n",
              "    <tr>\n",
              "      <th>date</th>\n",
              "      <th></th>\n",
              "      <th></th>\n",
              "      <th></th>\n",
              "      <th></th>\n",
              "      <th></th>\n",
              "      <th></th>\n",
              "      <th></th>\n",
              "      <th></th>\n",
              "      <th></th>\n",
              "      <th></th>\n",
              "      <th></th>\n",
              "      <th></th>\n",
              "      <th></th>\n",
              "      <th></th>\n",
              "      <th></th>\n",
              "      <th></th>\n",
              "      <th></th>\n",
              "      <th></th>\n",
              "      <th></th>\n",
              "      <th></th>\n",
              "      <th></th>\n",
              "      <th></th>\n",
              "      <th></th>\n",
              "    </tr>\n",
              "  </thead>\n",
              "  <tbody>\n",
              "    <tr>\n",
              "      <th>2011-01-01</th>\n",
              "      <td>1</td>\n",
              "      <td>0</td>\n",
              "      <td>1</td>\n",
              "      <td>0</td>\n",
              "      <td>0</td>\n",
              "      <td>6</td>\n",
              "      <td>0</td>\n",
              "      <td>1</td>\n",
              "      <td>0.24</td>\n",
              "      <td>0.2879</td>\n",
              "      <td>0.81</td>\n",
              "      <td>0.0</td>\n",
              "      <td>1</td>\n",
              "      <td>1</td>\n",
              "      <td>1</td>\n",
              "      <td>52</td>\n",
              "      <td>False</td>\n",
              "      <td>True</td>\n",
              "      <td>False</td>\n",
              "      <td>True</td>\n",
              "      <td>False</td>\n",
              "      <td>True</td>\n",
              "      <td>16</td>\n",
              "    </tr>\n",
              "    <tr>\n",
              "      <th>2011-01-01</th>\n",
              "      <td>1</td>\n",
              "      <td>0</td>\n",
              "      <td>1</td>\n",
              "      <td>1</td>\n",
              "      <td>0</td>\n",
              "      <td>6</td>\n",
              "      <td>0</td>\n",
              "      <td>1</td>\n",
              "      <td>0.22</td>\n",
              "      <td>0.2727</td>\n",
              "      <td>0.80</td>\n",
              "      <td>0.0</td>\n",
              "      <td>1</td>\n",
              "      <td>1</td>\n",
              "      <td>1</td>\n",
              "      <td>52</td>\n",
              "      <td>False</td>\n",
              "      <td>True</td>\n",
              "      <td>False</td>\n",
              "      <td>True</td>\n",
              "      <td>False</td>\n",
              "      <td>True</td>\n",
              "      <td>40</td>\n",
              "    </tr>\n",
              "    <tr>\n",
              "      <th>2011-01-01</th>\n",
              "      <td>1</td>\n",
              "      <td>0</td>\n",
              "      <td>1</td>\n",
              "      <td>2</td>\n",
              "      <td>0</td>\n",
              "      <td>6</td>\n",
              "      <td>0</td>\n",
              "      <td>1</td>\n",
              "      <td>0.22</td>\n",
              "      <td>0.2727</td>\n",
              "      <td>0.80</td>\n",
              "      <td>0.0</td>\n",
              "      <td>1</td>\n",
              "      <td>1</td>\n",
              "      <td>1</td>\n",
              "      <td>52</td>\n",
              "      <td>False</td>\n",
              "      <td>True</td>\n",
              "      <td>False</td>\n",
              "      <td>True</td>\n",
              "      <td>False</td>\n",
              "      <td>True</td>\n",
              "      <td>32</td>\n",
              "    </tr>\n",
              "    <tr>\n",
              "      <th>2011-01-01</th>\n",
              "      <td>1</td>\n",
              "      <td>0</td>\n",
              "      <td>1</td>\n",
              "      <td>3</td>\n",
              "      <td>0</td>\n",
              "      <td>6</td>\n",
              "      <td>0</td>\n",
              "      <td>1</td>\n",
              "      <td>0.24</td>\n",
              "      <td>0.2879</td>\n",
              "      <td>0.75</td>\n",
              "      <td>0.0</td>\n",
              "      <td>1</td>\n",
              "      <td>1</td>\n",
              "      <td>1</td>\n",
              "      <td>52</td>\n",
              "      <td>False</td>\n",
              "      <td>True</td>\n",
              "      <td>False</td>\n",
              "      <td>True</td>\n",
              "      <td>False</td>\n",
              "      <td>True</td>\n",
              "      <td>13</td>\n",
              "    </tr>\n",
              "    <tr>\n",
              "      <th>2011-01-01</th>\n",
              "      <td>1</td>\n",
              "      <td>0</td>\n",
              "      <td>1</td>\n",
              "      <td>4</td>\n",
              "      <td>0</td>\n",
              "      <td>6</td>\n",
              "      <td>0</td>\n",
              "      <td>1</td>\n",
              "      <td>0.24</td>\n",
              "      <td>0.2879</td>\n",
              "      <td>0.75</td>\n",
              "      <td>0.0</td>\n",
              "      <td>1</td>\n",
              "      <td>1</td>\n",
              "      <td>1</td>\n",
              "      <td>52</td>\n",
              "      <td>False</td>\n",
              "      <td>True</td>\n",
              "      <td>False</td>\n",
              "      <td>True</td>\n",
              "      <td>False</td>\n",
              "      <td>True</td>\n",
              "      <td>1</td>\n",
              "    </tr>\n",
              "  </tbody>\n",
              "</table>\n",
              "</div>"
            ],
            "text/plain": [
              "            season  yr  mnth  ...  is_year_end  is_year_start  label\n",
              "date                          ...                                   \n",
              "2011-01-01       1   0     1  ...        False           True     16\n",
              "2011-01-01       1   0     1  ...        False           True     40\n",
              "2011-01-01       1   0     1  ...        False           True     32\n",
              "2011-01-01       1   0     1  ...        False           True     13\n",
              "2011-01-01       1   0     1  ...        False           True      1\n",
              "\n",
              "[5 rows x 23 columns]"
            ]
          },
          "metadata": {
            "tags": []
          },
          "execution_count": 37
        }
      ]
    },
    {
      "cell_type": "code",
      "metadata": {
        "id": "c0MMRZZXT1Ch",
        "colab_type": "code",
        "colab": {}
      },
      "source": [
        "train_bike = bike.iloc[:-122]\n",
        "val_bike = bike.iloc[-122:-61]  # Sep and Oct of 2012\n",
        "test_bike = bike.iloc[-61:]     # Nov and Dec of 2012"
      ],
      "execution_count": 0,
      "outputs": []
    },
    {
      "cell_type": "code",
      "metadata": {
        "id": "k35Rp7ZQUNFc",
        "colab_type": "code",
        "colab": {
          "base_uri": "https://localhost:8080/",
          "height": 310
        },
        "outputId": "f55e2fa7-c9a3-4cfa-97de-655005d9d293"
      },
      "source": [
        "grid_search = {\"max_depth\": [], \"min_samples\": [], \"r_squared_train\": [], \"r_squared_val\": []}\n",
        "for max_depth in range(1, 7):\n",
        "    for min_samples in range(5, 20, 5):\n",
        "        tree = decision_tree_algorithm(train_bike, ml_task=\"regression\", max_depth=max_depth, min_samples=min_samples)\n",
        "        \n",
        "        r_squared_train = calculate_r_squared(train_bike, tree)\n",
        "        r_squared_val = calculate_r_squared(val_bike, tree)\n",
        "        \n",
        "        grid_search[\"max_depth\"].append(max_depth)\n",
        "        grid_search[\"min_samples\"].append(min_samples)\n",
        "        grid_search[\"r_squared_train\"].append(r_squared_train)\n",
        "        grid_search[\"r_squared_val\"].append(r_squared_val)\n",
        "        \n",
        "    print(f\"Progress: Iteration {max_depth}/6\")\n",
        "        \n",
        "grid_search = pd.DataFrame(grid_search)\n",
        "grid_search.sort_values(\"r_squared_val\", ascending=False).head()"
      ],
      "execution_count": 39,
      "outputs": [
        {
          "output_type": "stream",
          "text": [
            "Progress: Iteration 1/6\n",
            "Progress: Iteration 2/6\n",
            "Progress: Iteration 3/6\n",
            "Progress: Iteration 4/6\n",
            "Progress: Iteration 5/6\n",
            "Progress: Iteration 6/6\n"
          ],
          "name": "stdout"
        },
        {
          "output_type": "execute_result",
          "data": {
            "text/html": [
              "<div>\n",
              "<style scoped>\n",
              "    .dataframe tbody tr th:only-of-type {\n",
              "        vertical-align: middle;\n",
              "    }\n",
              "\n",
              "    .dataframe tbody tr th {\n",
              "        vertical-align: top;\n",
              "    }\n",
              "\n",
              "    .dataframe thead th {\n",
              "        text-align: right;\n",
              "    }\n",
              "</style>\n",
              "<table border=\"1\" class=\"dataframe\">\n",
              "  <thead>\n",
              "    <tr style=\"text-align: right;\">\n",
              "      <th></th>\n",
              "      <th>max_depth</th>\n",
              "      <th>min_samples</th>\n",
              "      <th>r_squared_train</th>\n",
              "      <th>r_squared_val</th>\n",
              "    </tr>\n",
              "  </thead>\n",
              "  <tbody>\n",
              "    <tr>\n",
              "      <th>17</th>\n",
              "      <td>6</td>\n",
              "      <td>15</td>\n",
              "      <td>0.693292</td>\n",
              "      <td>0.481885</td>\n",
              "    </tr>\n",
              "    <tr>\n",
              "      <th>16</th>\n",
              "      <td>6</td>\n",
              "      <td>10</td>\n",
              "      <td>0.693292</td>\n",
              "      <td>0.481885</td>\n",
              "    </tr>\n",
              "    <tr>\n",
              "      <th>15</th>\n",
              "      <td>6</td>\n",
              "      <td>5</td>\n",
              "      <td>0.693292</td>\n",
              "      <td>0.481885</td>\n",
              "    </tr>\n",
              "    <tr>\n",
              "      <th>14</th>\n",
              "      <td>5</td>\n",
              "      <td>15</td>\n",
              "      <td>0.648448</td>\n",
              "      <td>0.314057</td>\n",
              "    </tr>\n",
              "    <tr>\n",
              "      <th>13</th>\n",
              "      <td>5</td>\n",
              "      <td>10</td>\n",
              "      <td>0.648448</td>\n",
              "      <td>0.314057</td>\n",
              "    </tr>\n",
              "  </tbody>\n",
              "</table>\n",
              "</div>"
            ],
            "text/plain": [
              "    max_depth  min_samples  r_squared_train  r_squared_val\n",
              "17          6           15         0.693292       0.481885\n",
              "16          6           10         0.693292       0.481885\n",
              "15          6            5         0.693292       0.481885\n",
              "14          5           15         0.648448       0.314057\n",
              "13          5           10         0.648448       0.314057"
            ]
          },
          "metadata": {
            "tags": []
          },
          "execution_count": 39
        }
      ]
    },
    {
      "cell_type": "code",
      "metadata": {
        "id": "DXRn1oTYUW7s",
        "colab_type": "code",
        "colab": {
          "base_uri": "https://localhost:8080/",
          "height": 34
        },
        "outputId": "8e741588-5c87-4916-a93b-8300330d106a"
      },
      "source": [
        "best_max_depth = 6\n",
        "best_min_samples = 15\n",
        "\n",
        "tree = decision_tree_algorithm(train_bike, ml_task=\"regression\", max_depth=best_max_depth, min_samples=best_min_samples)\n",
        "calculate_r_squared(test_bike, tree)"
      ],
      "execution_count": 40,
      "outputs": [
        {
          "output_type": "execute_result",
          "data": {
            "text/plain": [
              "0.16353815649125036"
            ]
          },
          "metadata": {
            "tags": []
          },
          "execution_count": 40
        }
      ]
    },
    {
      "cell_type": "code",
      "metadata": {
        "id": "DecqrRG-Xe2i",
        "colab_type": "code",
        "colab": {}
      },
      "source": [
        "def create_plot(df, tree, title):    \n",
        "    predictions = df.apply(predict_example, args=(tree,), axis=1)\n",
        "    actual = df.label\n",
        "    plot_df = pd.DataFrame({\"actual\": actual, \"predictions\": predictions})\n",
        "    \n",
        "    plot_df.plot(figsize=(18, 5), title=title)\n",
        "    \n",
        "    return"
      ],
      "execution_count": 0,
      "outputs": []
    },
    {
      "cell_type": "code",
      "metadata": {
        "id": "ly5rDCdlXhr0",
        "colab_type": "code",
        "colab": {
          "base_uri": "https://localhost:8080/",
          "height": 362
        },
        "outputId": "dd844c57-b35d-4f43-9396-bdccbe7d3d2a"
      },
      "source": [
        "create_plot(train_bike, tree, title=\"Training Data\")"
      ],
      "execution_count": 42,
      "outputs": [
        {
          "output_type": "display_data",
          "data": {
            "image/png": "[encoded data removed]",
            "text/plain": [
              "<Figure size 1296x360 with 1 Axes>"
            ]
          },
          "metadata": {
            "tags": []
          }
        }
      ]
    },
    {
      "cell_type": "code",
      "metadata": {
        "id": "CEkt1a0TXzJP",
        "colab_type": "code",
        "colab": {
          "base_uri": "https://localhost:8080/",
          "height": 370
        },
        "outputId": "881b0264-a624-406f-98e6-f8a0a724fc86"
      },
      "source": [
        "create_plot(train_bike, tree, title=\"Training Data\")\n",
        "plt.xlim(pd.to_datetime(\"2011-01-01\"), pd.to_datetime(\"2011-02-28\"));"
      ],
      "execution_count": 43,
      "outputs": [
        {
          "output_type": "display_data",
          "data": {
            "image/png": "[encoded data removed]",
            "text/plain": [
              "<Figure size 1296x360 with 1 Axes>"
            ]
          },
          "metadata": {
            "tags": []
          }
        }
      ]
    },
    {
      "cell_type": "code",
      "metadata": {
        "id": "SoWnY9IjX2vi",
        "colab_type": "code",
        "colab": {
          "base_uri": "https://localhost:8080/",
          "height": 364
        },
        "outputId": "bbd439cb-ec62-4d1e-8628-71a277e11469"
      },
      "source": [
        "create_plot(val_bike, tree, title=\"Validation Data\")"
      ],
      "execution_count": 44,
      "outputs": [
        {
          "output_type": "display_data",
          "data": {
            "image/png": "[encoded data removed]",
            "text/plain": [
              "<Figure size 1296x360 with 1 Axes>"
            ]
          },
          "metadata": {
            "tags": []
          }
        }
      ]
    },
    {
      "cell_type": "code",
      "metadata": {
        "id": "g2Kgk-K3X_rD",
        "colab_type": "code",
        "colab": {
          "base_uri": "https://localhost:8080/",
          "height": 364
        },
        "outputId": "49025358-fca9-4e2d-9285-eaeb23490419"
      },
      "source": [
        "create_plot(test_bike, tree, title=\"Test Data\")"
      ],
      "execution_count": 45,
      "outputs": [
        {
          "output_type": "display_data",
          "data": {
            "image/png": "[encoded data removed]",
            "text/plain": [
              "<Figure size 1296x360 with 1 Axes>"
            ]
          },
          "metadata": {
            "tags": []
          }
        }
      ]
    },
    {
      "cell_type": "code",
      "metadata": {
        "colab_type": "code",
        "outputId": "aefbe09b-6e8e-4464-def7-125742363789",
        "id": "vcWqVHXMYheL",
        "colab": {
          "base_uri": "https://localhost:8080/",
          "height": 121
        }
      },
      "source": [
        "from sklearn.tree import DecisionTreeRegressor\n",
        "\n",
        "regr_1 = DecisionTreeRegressor(max_depth=6, min_samples_leaf=15)\n",
        "regr_1.fit(train_bike.iloc[:,:-1], train_bike[\"label\"])"
      ],
      "execution_count": 58,
      "outputs": [
        {
          "output_type": "execute_result",
          "data": {
            "text/plain": [
              "DecisionTreeRegressor(ccp_alpha=0.0, criterion='mse', max_depth=6,\n",
              "                      max_features=None, max_leaf_nodes=None,\n",
              "                      min_impurity_decrease=0.0, min_impurity_split=None,\n",
              "                      min_samples_leaf=15, min_samples_split=2,\n",
              "                      min_weight_fraction_leaf=0.0, presort='deprecated',\n",
              "                      random_state=None, splitter='best')"
            ]
          },
          "metadata": {
            "tags": []
          },
          "execution_count": 58
        }
      ]
    },
    {
      "cell_type": "code",
      "metadata": {
        "id": "tEbvItajeFzQ",
        "colab_type": "code",
        "colab": {}
      },
      "source": [
        "def sk_create_plot(df, reg, title):    \n",
        "    predictions = reg.predict(df.iloc[:,:-1])\n",
        "    actual = df.label\n",
        "    plot_df = pd.DataFrame({\"actual\": actual, \"predictions\": predictions})\n",
        "    \n",
        "    plot_df.plot(figsize=(18, 5), title=title)\n",
        "    \n",
        "    return"
      ],
      "execution_count": 0,
      "outputs": []
    },
    {
      "cell_type": "code",
      "metadata": {
        "id": "VBMpgzWjd_hq",
        "colab_type": "code",
        "colab": {
          "base_uri": "https://localhost:8080/",
          "height": 362
        },
        "outputId": "94f89856-1282-47f9-81ff-1ce34d291506"
      },
      "source": [
        "sk_create_plot(train_bike, regr_1, title=\"Training Data\")"
      ],
      "execution_count": 62,
      "outputs": [
        {
          "output_type": "display_data",
          "data": {
            "image/png": "[encoded data removed]",
            "text/plain": [
              "<Figure size 1296x360 with 1 Axes>"
            ]
          },
          "metadata": {
            "tags": []
          }
        }
      ]
    },
    {
      "cell_type": "code",
      "metadata": {
        "id": "t3v-pM4xeAMy",
        "colab_type": "code",
        "colab": {
          "base_uri": "https://localhost:8080/",
          "height": 364
        },
        "outputId": "c0db895e-5f18-4d60-c462-78abfe475740"
      },
      "source": [
        "sk_create_plot(val_bike, regr_1, title=\"Validation Data\")"
      ],
      "execution_count": 63,
      "outputs": [
        {
          "output_type": "display_data",
          "data": {
            "image/png": "[encoded data removed]",
            "text/plain": [
              "<Figure size 1296x360 with 1 Axes>"
            ]
          },
          "metadata": {
            "tags": []
          }
        }
      ]
    },
    {
      "cell_type": "code",
      "metadata": {
        "id": "IaQ5o6p2fCFl",
        "colab_type": "code",
        "colab": {
          "base_uri": "https://localhost:8080/",
          "height": 364
        },
        "outputId": "c2ea9aae-87ad-466c-e59b-9a69a3cb9349"
      },
      "source": [
        "sk_create_plot(test_bike, regr_1, title=\"Test Data\")"
      ],
      "execution_count": 64,
      "outputs": [
        {
          "output_type": "display_data",
          "data": {
            "image/png": "[encoded data removed]",
            "text/plain": [
              "<Figure size 1296x360 with 1 Axes>"
            ]
          },
          "metadata": {
            "tags": []
          }
        }
      ]
    },
    {
      "cell_type": "code",
      "metadata": {
        "id": "HdFIad4SfQnL",
        "colab_type": "code",
        "colab": {}
      },
      "source": [
        ""
      ],
      "execution_count": 0,
      "outputs": []
    }
  ]
}
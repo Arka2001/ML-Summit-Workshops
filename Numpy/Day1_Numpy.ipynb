{
  "nbformat": 4,
  "nbformat_minor": 0,
  "metadata": {
    "colab": {
      "name": "Day1-Numpy.ipynb",
      "provenance": [],
      "collapsed_sections": []
    },
    "kernelspec": {
      "name": "python3",
      "display_name": "Python 3"
    }
  },
  "cells": [
    {
      "cell_type": "markdown",
      "metadata": {
        "id": "ytZsEK1Swgh3",
        "colab_type": "text"
      },
      "source": [
        "**What is Numpy?**\n",
        "+ Numpy is python package used for Scientific Computing.\n",
        "+  It add support for large, multi-dimensional arrays and matrices, along with a large collection of high-level mathematical functions to operate on these arrays."
      ]
    },
    {
      "cell_type": "code",
      "metadata": {
        "id": "_tmlFim92f6t",
        "colab_type": "code",
        "outputId": "0d228c8d-8d1a-4e7f-df1d-05e20bc36b0d",
        "colab": {
          "base_uri": "https://localhost:8080/",
          "height": 35
        }
      },
      "source": [
        "#Creating a Numpy array\n",
        "\n",
        "import numpy as np #Import the Library\n",
        "\n",
        "x = np.array([1,2,3]) \n",
        "\n",
        "print(x) #This will print single dimensional array"
      ],
      "execution_count": 0,
      "outputs": [
        {
          "output_type": "stream",
          "text": [
            "[1 2 3]\n"
          ],
          "name": "stdout"
        }
      ]
    },
    {
      "cell_type": "code",
      "metadata": {
        "id": "1w-7BO4b4hiH",
        "colab_type": "code",
        "outputId": "cde2285f-7860-4044-ea68-fd34040acf83",
        "colab": {
          "base_uri": "https://localhost:8080/",
          "height": 52
        }
      },
      "source": [
        "y = np.array([(1,2,3),(4,5,6)])\n",
        "\n",
        "print(y) #This will print 2-D array"
      ],
      "execution_count": 0,
      "outputs": [
        {
          "output_type": "stream",
          "text": [
            "[[1 2 3]\n",
            " [4 5 6]]\n"
          ],
          "name": "stdout"
        }
      ]
    },
    {
      "cell_type": "markdown",
      "metadata": {
        "id": "7rexwHyk4nfd",
        "colab_type": "text"
      },
      "source": [
        "**Why to use Numpy when i have List?**\n",
        "+ Faster\n",
        "+ Consume Less Memory\n",
        "+ More Convenient"
      ]
    },
    {
      "cell_type": "code",
      "metadata": {
        "id": "o6g4pRlm4Q09",
        "colab_type": "code",
        "colab": {}
      },
      "source": [
        "import numpy as np\n",
        "\n",
        "import time\n",
        "\n",
        "import sys  "
      ],
      "execution_count": 0,
      "outputs": []
    },
    {
      "cell_type": "code",
      "metadata": {
        "id": "HnkxQg1J-VT9",
        "colab_type": "code",
        "colab": {}
      },
      "source": [
        "#Fast\n",
        "\n",
        "size = 1000000\n",
        "\n",
        "#List\n",
        "L1 = range(size)\n",
        "L2 = range(size)\n",
        "\n",
        "#Numpy Arrays\n",
        "N1 = np.arange(size)\n",
        "N2 = np.arange(size)\n",
        "\n",
        "start = time.time()\n",
        "\n",
        "result = [(x,y) for x,y in zip(L1,L2)]\n",
        "\n",
        "print((time.time() - start))\n",
        "\n",
        "start = time.time()\n",
        "\n",
        "result = N1 + N2\n",
        "\n",
        "print((time.time() - start))\n"
      ],
      "execution_count": 0,
      "outputs": []
    },
    {
      "cell_type": "code",
      "metadata": {
        "id": "q_Jr6gAhAdSA",
        "colab_type": "code",
        "colab": {}
      },
      "source": [
        "#Size\n",
        "\n",
        "s=range(1000)\n",
        "print(sys.getsizeof(1)*len(s))\n",
        "\n",
        "a=np.arange(1000)\n",
        "print(a.size*a.itemsize)"
      ],
      "execution_count": 0,
      "outputs": []
    },
    {
      "cell_type": "markdown",
      "metadata": {
        "id": "JmRoD6iyDCpJ",
        "colab_type": "text"
      },
      "source": [
        "**Numpy Basic Operations**"
      ]
    },
    {
      "cell_type": "code",
      "metadata": {
        "id": "3YPwJPo0Bw8T",
        "colab_type": "code",
        "colab": {}
      },
      "source": [
        "N = np.array([(1,2,3),(4,5,6)])\n",
        "\n",
        "#Calculate dimensionality of a numpy array\n",
        "print(N.ndim)"
      ],
      "execution_count": 0,
      "outputs": []
    },
    {
      "cell_type": "code",
      "metadata": {
        "id": "38EA6QHuFh-7",
        "colab_type": "code",
        "colab": {}
      },
      "source": [
        "#Calculate byte size of each of the element\n",
        "\n",
        "print(N.itemsize)"
      ],
      "execution_count": 0,
      "outputs": []
    },
    {
      "cell_type": "code",
      "metadata": {
        "id": "ubgrZpseGJD7",
        "colab_type": "code",
        "colab": {}
      },
      "source": [
        "#To Know the datatype stored in array\n",
        "\n",
        "print(N.dtype)"
      ],
      "execution_count": 0,
      "outputs": []
    },
    {
      "cell_type": "code",
      "metadata": {
        "id": "Ykvm5aASGh7_",
        "colab_type": "code",
        "colab": {}
      },
      "source": [
        "#Find Total No. of elements in array\n",
        "\n",
        "print(N.size)"
      ],
      "execution_count": 0,
      "outputs": []
    },
    {
      "cell_type": "code",
      "metadata": {
        "id": "fgW4R6cqHWJO",
        "colab_type": "code",
        "colab": {}
      },
      "source": [
        "#Find Shape of the array e.g. No. of rows & columns\n",
        "\n",
        "print(N.shape)"
      ],
      "execution_count": 0,
      "outputs": []
    },
    {
      "cell_type": "markdown",
      "metadata": {
        "id": "AVCyg71vJH9U",
        "colab_type": "text"
      },
      "source": [
        "**Reshape and Slicing**"
      ]
    },
    {
      "cell_type": "code",
      "metadata": {
        "id": "Zg62_eQFIxwg",
        "colab_type": "code",
        "outputId": "40f8bc78-d9b2-476a-da14-4c0d1ba18cd1",
        "colab": {
          "base_uri": "https://localhost:8080/",
          "height": 124
        }
      },
      "source": [
        "#Reshaping of an array\n",
        "a= np.array([(1,2,3,4),(2,3,4,5),(3,4,5,6)])\n",
        "\n",
        "print(a.reshape(6,2))"
      ],
      "execution_count": 0,
      "outputs": [
        {
          "output_type": "stream",
          "text": [
            "[[1 2]\n",
            " [3 4]\n",
            " [2 3]\n",
            " [4 5]\n",
            " [3 4]\n",
            " [5 6]]\n"
          ],
          "name": "stdout"
        }
      ]
    },
    {
      "cell_type": "code",
      "metadata": {
        "id": "l2kvPoDSH2l-",
        "colab_type": "code",
        "outputId": "696dca6c-d748-4581-e896-12c6153269c8",
        "colab": {
          "base_uri": "https://localhost:8080/",
          "height": 52
        }
      },
      "source": [
        "#Slicing : It is used for extracting part of a string,or some part of array\n",
        "\n",
        "print(a[0,1])\n",
        "print(a[:,0])"
      ],
      "execution_count": 0,
      "outputs": [
        {
          "output_type": "stream",
          "text": [
            "2\n",
            "[1 2 3]\n"
          ],
          "name": "stdout"
        }
      ]
    },
    {
      "cell_type": "code",
      "metadata": {
        "id": "3j6afaemN-5V",
        "colab_type": "code",
        "colab": {}
      },
      "source": [
        "#To get evenly Spaced Samples\n",
        "\n",
        "a = np.linspace(1,2,5)\n",
        "\n",
        "print(a)"
      ],
      "execution_count": 0,
      "outputs": []
    },
    {
      "cell_type": "markdown",
      "metadata": {
        "id": "91yrasFVP0z9",
        "colab_type": "text"
      },
      "source": [
        "**Aggregations: Min, Max, and Everything In Between**"
      ]
    },
    {
      "cell_type": "code",
      "metadata": {
        "id": "bI-Gb_WZPCfD",
        "colab_type": "code",
        "outputId": "7d70d085-6073-4951-a42b-a4a2f9471526",
        "colab": {
          "base_uri": "https://localhost:8080/",
          "height": 70
        }
      },
      "source": [
        "N = np.array([1,2,3])\n",
        "\n",
        "print(N.min())\n",
        "print(N.max())\n",
        "print(N.sum())"
      ],
      "execution_count": 0,
      "outputs": [
        {
          "output_type": "stream",
          "text": [
            "1\n",
            "3\n",
            "6\n"
          ],
          "name": "stdout"
        }
      ]
    },
    {
      "cell_type": "code",
      "metadata": {
        "id": "Dy1rPwKvQt94",
        "colab_type": "code",
        "outputId": "f548e2bb-1c88-43c9-dc19-c593bb91b61a",
        "colab": {
          "base_uri": "https://localhost:8080/",
          "height": 52
        }
      },
      "source": [
        "N = np.array([(1,2,3),(4,5,6)])\n",
        "\n",
        "print(N.sum(axis=0))\n",
        "print(N.sum(axis=1))"
      ],
      "execution_count": 0,
      "outputs": [
        {
          "output_type": "stream",
          "text": [
            "[5 7 9]\n",
            "[ 6 15]\n"
          ],
          "name": "stdout"
        }
      ]
    },
    {
      "cell_type": "code",
      "metadata": {
        "id": "ihf8FVYBRV-C",
        "colab_type": "code",
        "colab": {}
      },
      "source": [
        "#To Calculate Square root of an array\n",
        "print(np.sqrt(N))"
      ],
      "execution_count": 0,
      "outputs": []
    },
    {
      "cell_type": "code",
      "metadata": {
        "id": "QlyzqZh6SG6E",
        "colab_type": "code",
        "colab": {}
      },
      "source": [
        "#To Calculate Standard Deviation\n",
        "print(np.std(N))"
      ],
      "execution_count": 0,
      "outputs": []
    },
    {
      "cell_type": "code",
      "metadata": {
        "id": "esfr0hSdSaxJ",
        "colab_type": "code",
        "colab": {}
      },
      "source": [
        "#Basic Mathematical Operations\n",
        "\n",
        "a = np.array([(1,2,3),(4,5,6)])\n",
        "b = np.array([(1,2,3),(4,5,6)])\n",
        "\n",
        "print(a + b)\n",
        "print(a - b)\n",
        "print(a*b)\n",
        "print(a/b)"
      ],
      "execution_count": 0,
      "outputs": []
    },
    {
      "cell_type": "code",
      "metadata": {
        "id": "VEFUqetMT_3E",
        "colab_type": "code",
        "colab": {}
      },
      "source": [
        ""
      ],
      "execution_count": 0,
      "outputs": []
    },
    {
      "cell_type": "code",
      "metadata": {
        "id": "sdxk-ZzJTbd_",
        "colab_type": "code",
        "outputId": "40a13d55-33b6-4970-f56d-012e066a37f0",
        "colab": {
          "base_uri": "https://localhost:8080/",
          "height": 88
        }
      },
      "source": [
        "#Stacking\n",
        "a = np.array([(1,1,1),(2,2,2)])\n",
        "b = np.array([(3,3,3),(4,4,4)])\n",
        "\n",
        "print(np.vstack((a,b))) #Vertical Stacking"
      ],
      "execution_count": 0,
      "outputs": [
        {
          "output_type": "stream",
          "text": [
            "[[1 1 1]\n",
            " [2 2 2]\n",
            " [3 3 3]\n",
            " [4 4 4]]\n"
          ],
          "name": "stdout"
        }
      ]
    },
    {
      "cell_type": "code",
      "metadata": {
        "id": "7po5V7dWUjF2",
        "colab_type": "code",
        "outputId": "6dfa33ca-4c0d-40c3-d573-bd24edd053e3",
        "colab": {
          "base_uri": "https://localhost:8080/",
          "height": 52
        }
      },
      "source": [
        "print(np.hstack((a,b))) #Horizontal Stacking"
      ],
      "execution_count": 0,
      "outputs": [
        {
          "output_type": "stream",
          "text": [
            "[[1 1 1 3 3 3]\n",
            " [2 2 2 4 4 4]]\n"
          ],
          "name": "stdout"
        }
      ]
    },
    {
      "cell_type": "code",
      "metadata": {
        "id": "2T8-hvLWViWK",
        "colab_type": "code",
        "outputId": "ee4ba5b0-c180-4829-881a-e24e031307e5",
        "colab": {
          "base_uri": "https://localhost:8080/",
          "height": 35
        }
      },
      "source": [
        "#Converting a ndarray to 1 D array\n",
        "\n",
        "print(a.ravel())"
      ],
      "execution_count": 0,
      "outputs": [
        {
          "output_type": "stream",
          "text": [
            "[1 1 1 2 2 2]\n"
          ],
          "name": "stdout"
        }
      ]
    }
  ]
}
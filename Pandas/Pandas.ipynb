{
  "nbformat": 4,
  "nbformat_minor": 0,
  "metadata": {
    "colab": {
      "name": "Day-1 Pandas.ipynb",
      "provenance": [],
      "collapsed_sections": []
    },
    "kernelspec": {
      "name": "python3",
      "display_name": "Python 3"
    }
  },
  "cells": [
    {
      "cell_type": "markdown",
      "metadata": {
        "id": "8UEQlLOAkluv",
        "colab_type": "text"
      },
      "source": [
        "**The filesystem**\n",
        "\n",
        "Before you can use pandas to import your data, you need to know where your data is in your filesystem and what your current working directory is.\n",
        "\n",
        "Everything on the computer is stored in the filesystem. \"Directories\" is just another word for \"folders\", and the \"working directory\" is simply the folder you're currently in. The Introduction to Shell for Data Science course on DataCamp will give you a full, hands-on experience with its utility, but here are some basic Shell commands to navigate your way in the filesystem:\n",
        "\n",
        "+ The ls command lists all content in the current working directory.\n",
        "+ The cd command followed by:\n",
        "        + the name of a sub-directory allows you to change your working directory to the sub-directory you specify.\n",
        "        + .. allows you to navigate back to the parent directory of your current working directory.\n",
        "+ The pwd command prints the path of your current working directory.\n",
        "Importing data is the first step in any data science project. \n",
        "\n",
        "Pandas provides functions to read different types of files in Python namely csv, excel, json and more."
      ]
    },
    {
      "cell_type": "code",
      "metadata": {
        "id": "x7jU0Ulwi-Lf",
        "colab_type": "code",
        "colab": {}
      },
      "source": [
        "#Import the library\n",
        "\n",
        "import pandas as pd"
      ],
      "execution_count": 0,
      "outputs": []
    },
    {
      "cell_type": "code",
      "metadata": {
        "id": "EglPmbflji5x",
        "colab_type": "code",
        "colab": {}
      },
      "source": [
        "#reading the dataset\n",
        "\n",
        "df = pd.read_csv(\"/content/train_ctrUa4K.csv\")"
      ],
      "execution_count": 0,
      "outputs": []
    },
    {
      "cell_type": "markdown",
      "metadata": {
        "id": "Ic8IAZUTnG0Z",
        "colab_type": "text"
      },
      "source": [
        "**Making a Pandas Dataframe**"
      ]
    },
    {
      "cell_type": "code",
      "metadata": {
        "id": "BaFLeQWwm2ue",
        "colab_type": "code",
        "colab": {}
      },
      "source": [
        "teachers = {\"name\":['BBM sir','PKD sir','Dawn sir','Riya mam','AKC sir','KPG sir'],\n",
        "    \"subject\":['Maths','Chemistry','Sports','English','Discipline','Everything'],\"marks\":[99,85,0,100,99,98]}"
      ],
      "execution_count": 0,
      "outputs": []
    },
    {
      "cell_type": "code",
      "metadata": {
        "id": "wtgwpSbAmeX_",
        "colab_type": "code",
        "outputId": "73191ad6-a88e-4700-e6b1-cd0742d35760",
        "colab": {
          "base_uri": "https://localhost:8080/",
          "height": 223
        }
      },
      "source": [
        "df = pd.DataFrame(teachers) #pandas dataframe is similar to excel workbook tabular datasheet\n",
        "\n",
        "df"
      ],
      "execution_count": 0,
      "outputs": [
        {
          "output_type": "execute_result",
          "data": {
            "text/html": [
              "<div>\n",
              "<style scoped>\n",
              "    .dataframe tbody tr th:only-of-type {\n",
              "        vertical-align: middle;\n",
              "    }\n",
              "\n",
              "    .dataframe tbody tr th {\n",
              "        vertical-align: top;\n",
              "    }\n",
              "\n",
              "    .dataframe thead th {\n",
              "        text-align: right;\n",
              "    }\n",
              "</style>\n",
              "<table border=\"1\" class=\"dataframe\">\n",
              "  <thead>\n",
              "    <tr style=\"text-align: right;\">\n",
              "      <th></th>\n",
              "      <th>name</th>\n",
              "      <th>subject</th>\n",
              "      <th>marks</th>\n",
              "    </tr>\n",
              "  </thead>\n",
              "  <tbody>\n",
              "    <tr>\n",
              "      <th>0</th>\n",
              "      <td>BBM sir</td>\n",
              "      <td>Maths</td>\n",
              "      <td>99</td>\n",
              "    </tr>\n",
              "    <tr>\n",
              "      <th>1</th>\n",
              "      <td>PKD sir</td>\n",
              "      <td>Chemistry</td>\n",
              "      <td>85</td>\n",
              "    </tr>\n",
              "    <tr>\n",
              "      <th>2</th>\n",
              "      <td>Dawn sir</td>\n",
              "      <td>Sports</td>\n",
              "      <td>0</td>\n",
              "    </tr>\n",
              "    <tr>\n",
              "      <th>3</th>\n",
              "      <td>Riya mam</td>\n",
              "      <td>English</td>\n",
              "      <td>100</td>\n",
              "    </tr>\n",
              "    <tr>\n",
              "      <th>4</th>\n",
              "      <td>AKC sir</td>\n",
              "      <td>Discipline</td>\n",
              "      <td>99</td>\n",
              "    </tr>\n",
              "    <tr>\n",
              "      <th>5</th>\n",
              "      <td>KPG sir</td>\n",
              "      <td>Everything</td>\n",
              "      <td>98</td>\n",
              "    </tr>\n",
              "  </tbody>\n",
              "</table>\n",
              "</div>"
            ],
            "text/plain": [
              "       name     subject  marks\n",
              "0   BBM sir       Maths     99\n",
              "1   PKD sir   Chemistry     85\n",
              "2  Dawn sir      Sports      0\n",
              "3  Riya mam     English    100\n",
              "4   AKC sir  Discipline     99\n",
              "5   KPG sir  Everything     98"
            ]
          },
          "metadata": {
            "tags": []
          },
          "execution_count": 26
        }
      ]
    },
    {
      "cell_type": "markdown",
      "metadata": {
        "id": "B2_sgqJYpfEA",
        "colab_type": "text"
      },
      "source": [
        "**Write a CSV File**\n",
        "\n",
        "You can save your Pandas DataFrame as a CSV file with .to_csv():"
      ]
    },
    {
      "cell_type": "code",
      "metadata": {
        "id": "vzc4ITOvpSre",
        "colab_type": "code",
        "colab": {}
      },
      "source": [
        "df.to_csv(\"my_past.csv\")"
      ],
      "execution_count": 0,
      "outputs": []
    },
    {
      "cell_type": "markdown",
      "metadata": {
        "id": "NZ20DieJqkL8",
        "colab_type": "text"
      },
      "source": [
        "We just learned about .to_csv() but there are others also, including:\n",
        "\n",
        "+ .to_excel()\n",
        "+ .to_json()\n",
        "+ .to_html()\n",
        "+ .to_sql()\n",
        "+ .to_pickle()"
      ]
    },
    {
      "cell_type": "markdown",
      "metadata": {
        "id": "r-3EWzSHrTcx",
        "colab_type": "text"
      },
      "source": [
        "What are the primary reasons for using pandas?\n",
        "\n",
        "A. It can read a wide variety of files like csv, json, html, etc\n",
        "\n",
        "B. It can help in reading, writing, filtering and manipulating data\n",
        "\n",
        "C. It has a huge contribution from the developer community\n",
        "\n",
        "D. All of the above"
      ]
    },
    {
      "cell_type": "code",
      "metadata": {
        "id": "Ain-1444tJGW",
        "colab_type": "code",
        "outputId": "e68c1978-cdc0-4769-8bc4-2ed3ecdfe032",
        "colab": {
          "base_uri": "https://localhost:8080/",
          "height": 194
        }
      },
      "source": [
        "#viewing the first few rows using head\n",
        "\n",
        "df.head()"
      ],
      "execution_count": 0,
      "outputs": [
        {
          "output_type": "execute_result",
          "data": {
            "text/html": [
              "<div>\n",
              "<style scoped>\n",
              "    .dataframe tbody tr th:only-of-type {\n",
              "        vertical-align: middle;\n",
              "    }\n",
              "\n",
              "    .dataframe tbody tr th {\n",
              "        vertical-align: top;\n",
              "    }\n",
              "\n",
              "    .dataframe thead th {\n",
              "        text-align: right;\n",
              "    }\n",
              "</style>\n",
              "<table border=\"1\" class=\"dataframe\">\n",
              "  <thead>\n",
              "    <tr style=\"text-align: right;\">\n",
              "      <th></th>\n",
              "      <th>name</th>\n",
              "      <th>subject</th>\n",
              "      <th>marks</th>\n",
              "    </tr>\n",
              "  </thead>\n",
              "  <tbody>\n",
              "    <tr>\n",
              "      <th>0</th>\n",
              "      <td>BBM sir</td>\n",
              "      <td>Maths</td>\n",
              "      <td>99</td>\n",
              "    </tr>\n",
              "    <tr>\n",
              "      <th>1</th>\n",
              "      <td>PKD sir</td>\n",
              "      <td>Chemistry</td>\n",
              "      <td>85</td>\n",
              "    </tr>\n",
              "    <tr>\n",
              "      <th>2</th>\n",
              "      <td>Dawn sir</td>\n",
              "      <td>Sports</td>\n",
              "      <td>0</td>\n",
              "    </tr>\n",
              "    <tr>\n",
              "      <th>3</th>\n",
              "      <td>Riya mam</td>\n",
              "      <td>English</td>\n",
              "      <td>100</td>\n",
              "    </tr>\n",
              "    <tr>\n",
              "      <th>4</th>\n",
              "      <td>AKC sir</td>\n",
              "      <td>Discipline</td>\n",
              "      <td>99</td>\n",
              "    </tr>\n",
              "  </tbody>\n",
              "</table>\n",
              "</div>"
            ],
            "text/plain": [
              "       name     subject  marks\n",
              "0   BBM sir       Maths     99\n",
              "1   PKD sir   Chemistry     85\n",
              "2  Dawn sir      Sports      0\n",
              "3  Riya mam     English    100\n",
              "4   AKC sir  Discipline     99"
            ]
          },
          "metadata": {
            "tags": []
          },
          "execution_count": 28
        }
      ]
    },
    {
      "cell_type": "code",
      "metadata": {
        "id": "3gK8O_7euChn",
        "colab_type": "code",
        "outputId": "d1e6862f-c1b8-4349-f9a4-caca73997b7d",
        "colab": {
          "base_uri": "https://localhost:8080/",
          "height": 194
        }
      },
      "source": [
        "#viewing the last few rows using tail\n",
        "\n",
        "df.tail()"
      ],
      "execution_count": 0,
      "outputs": [
        {
          "output_type": "execute_result",
          "data": {
            "text/html": [
              "<div>\n",
              "<style scoped>\n",
              "    .dataframe tbody tr th:only-of-type {\n",
              "        vertical-align: middle;\n",
              "    }\n",
              "\n",
              "    .dataframe tbody tr th {\n",
              "        vertical-align: top;\n",
              "    }\n",
              "\n",
              "    .dataframe thead th {\n",
              "        text-align: right;\n",
              "    }\n",
              "</style>\n",
              "<table border=\"1\" class=\"dataframe\">\n",
              "  <thead>\n",
              "    <tr style=\"text-align: right;\">\n",
              "      <th></th>\n",
              "      <th>name</th>\n",
              "      <th>subject</th>\n",
              "      <th>marks</th>\n",
              "    </tr>\n",
              "  </thead>\n",
              "  <tbody>\n",
              "    <tr>\n",
              "      <th>1</th>\n",
              "      <td>PKD sir</td>\n",
              "      <td>Chemistry</td>\n",
              "      <td>85</td>\n",
              "    </tr>\n",
              "    <tr>\n",
              "      <th>2</th>\n",
              "      <td>Dawn sir</td>\n",
              "      <td>Sports</td>\n",
              "      <td>0</td>\n",
              "    </tr>\n",
              "    <tr>\n",
              "      <th>3</th>\n",
              "      <td>Riya mam</td>\n",
              "      <td>English</td>\n",
              "      <td>100</td>\n",
              "    </tr>\n",
              "    <tr>\n",
              "      <th>4</th>\n",
              "      <td>AKC sir</td>\n",
              "      <td>Discipline</td>\n",
              "      <td>99</td>\n",
              "    </tr>\n",
              "    <tr>\n",
              "      <th>5</th>\n",
              "      <td>KPG sir</td>\n",
              "      <td>Everything</td>\n",
              "      <td>98</td>\n",
              "    </tr>\n",
              "  </tbody>\n",
              "</table>\n",
              "</div>"
            ],
            "text/plain": [
              "       name     subject  marks\n",
              "1   PKD sir   Chemistry     85\n",
              "2  Dawn sir      Sports      0\n",
              "3  Riya mam     English    100\n",
              "4   AKC sir  Discipline     99\n",
              "5   KPG sir  Everything     98"
            ]
          },
          "metadata": {
            "tags": []
          },
          "execution_count": 29
        }
      ]
    },
    {
      "cell_type": "code",
      "metadata": {
        "id": "k1QB0L2VuMDz",
        "colab_type": "code",
        "outputId": "4157c603-db88-4a60-c451-44b9ed4cb0a1",
        "colab": {
          "base_uri": "https://localhost:8080/",
          "height": 223
        }
      },
      "source": [
        "#Selecting column using column name\n",
        "df[['name','marks']]"
      ],
      "execution_count": 0,
      "outputs": [
        {
          "output_type": "execute_result",
          "data": {
            "text/html": [
              "<div>\n",
              "<style scoped>\n",
              "    .dataframe tbody tr th:only-of-type {\n",
              "        vertical-align: middle;\n",
              "    }\n",
              "\n",
              "    .dataframe tbody tr th {\n",
              "        vertical-align: top;\n",
              "    }\n",
              "\n",
              "    .dataframe thead th {\n",
              "        text-align: right;\n",
              "    }\n",
              "</style>\n",
              "<table border=\"1\" class=\"dataframe\">\n",
              "  <thead>\n",
              "    <tr style=\"text-align: right;\">\n",
              "      <th></th>\n",
              "      <th>name</th>\n",
              "      <th>marks</th>\n",
              "    </tr>\n",
              "  </thead>\n",
              "  <tbody>\n",
              "    <tr>\n",
              "      <th>0</th>\n",
              "      <td>BBM sir</td>\n",
              "      <td>99</td>\n",
              "    </tr>\n",
              "    <tr>\n",
              "      <th>1</th>\n",
              "      <td>PKD sir</td>\n",
              "      <td>85</td>\n",
              "    </tr>\n",
              "    <tr>\n",
              "      <th>2</th>\n",
              "      <td>Dawn sir</td>\n",
              "      <td>0</td>\n",
              "    </tr>\n",
              "    <tr>\n",
              "      <th>3</th>\n",
              "      <td>Riya mam</td>\n",
              "      <td>100</td>\n",
              "    </tr>\n",
              "    <tr>\n",
              "      <th>4</th>\n",
              "      <td>AKC sir</td>\n",
              "      <td>99</td>\n",
              "    </tr>\n",
              "    <tr>\n",
              "      <th>5</th>\n",
              "      <td>KPG sir</td>\n",
              "      <td>98</td>\n",
              "    </tr>\n",
              "  </tbody>\n",
              "</table>\n",
              "</div>"
            ],
            "text/plain": [
              "       name  marks\n",
              "0   BBM sir     99\n",
              "1   PKD sir     85\n",
              "2  Dawn sir      0\n",
              "3  Riya mam    100\n",
              "4   AKC sir     99\n",
              "5   KPG sir     98"
            ]
          },
          "metadata": {
            "tags": []
          },
          "execution_count": 31
        }
      ]
    },
    {
      "cell_type": "code",
      "metadata": {
        "id": "fCa42CAOIyQ2",
        "colab_type": "code",
        "colab": {}
      },
      "source": [
        "df.index = ['a','b','c','d','e','f']"
      ],
      "execution_count": 0,
      "outputs": []
    },
    {
      "cell_type": "code",
      "metadata": {
        "id": "nJL5j3NuJrb7",
        "colab_type": "code",
        "outputId": "794bbca1-4046-421a-a56f-bb82df275eec",
        "colab": {
          "base_uri": "https://localhost:8080/",
          "height": 223
        }
      },
      "source": [
        "df"
      ],
      "execution_count": 0,
      "outputs": [
        {
          "output_type": "execute_result",
          "data": {
            "text/html": [
              "<div>\n",
              "<style scoped>\n",
              "    .dataframe tbody tr th:only-of-type {\n",
              "        vertical-align: middle;\n",
              "    }\n",
              "\n",
              "    .dataframe tbody tr th {\n",
              "        vertical-align: top;\n",
              "    }\n",
              "\n",
              "    .dataframe thead th {\n",
              "        text-align: right;\n",
              "    }\n",
              "</style>\n",
              "<table border=\"1\" class=\"dataframe\">\n",
              "  <thead>\n",
              "    <tr style=\"text-align: right;\">\n",
              "      <th></th>\n",
              "      <th>name</th>\n",
              "      <th>subject</th>\n",
              "      <th>marks</th>\n",
              "    </tr>\n",
              "  </thead>\n",
              "  <tbody>\n",
              "    <tr>\n",
              "      <th>a</th>\n",
              "      <td>BBM sir</td>\n",
              "      <td>Maths</td>\n",
              "      <td>99</td>\n",
              "    </tr>\n",
              "    <tr>\n",
              "      <th>b</th>\n",
              "      <td>PKD sir</td>\n",
              "      <td>Chemistry</td>\n",
              "      <td>85</td>\n",
              "    </tr>\n",
              "    <tr>\n",
              "      <th>c</th>\n",
              "      <td>Dawn sir</td>\n",
              "      <td>Sports</td>\n",
              "      <td>0</td>\n",
              "    </tr>\n",
              "    <tr>\n",
              "      <th>d</th>\n",
              "      <td>Riya mam</td>\n",
              "      <td>English</td>\n",
              "      <td>100</td>\n",
              "    </tr>\n",
              "    <tr>\n",
              "      <th>e</th>\n",
              "      <td>AKC sir</td>\n",
              "      <td>Discipline</td>\n",
              "      <td>99</td>\n",
              "    </tr>\n",
              "    <tr>\n",
              "      <th>f</th>\n",
              "      <td>KPG sir</td>\n",
              "      <td>Everything</td>\n",
              "      <td>98</td>\n",
              "    </tr>\n",
              "  </tbody>\n",
              "</table>\n",
              "</div>"
            ],
            "text/plain": [
              "       name     subject  marks\n",
              "a   BBM sir       Maths     99\n",
              "b   PKD sir   Chemistry     85\n",
              "c  Dawn sir      Sports      0\n",
              "d  Riya mam     English    100\n",
              "e   AKC sir  Discipline     99\n",
              "f   KPG sir  Everything     98"
            ]
          },
          "metadata": {
            "tags": []
          },
          "execution_count": 35
        }
      ]
    },
    {
      "cell_type": "code",
      "metadata": {
        "id": "qKfSf7ulJsaS",
        "colab_type": "code",
        "outputId": "20d1f76f-b5c7-4e0c-d851-5a140dacb06b",
        "colab": {
          "base_uri": "https://localhost:8080/",
          "height": 135
        }
      },
      "source": [
        "#Selecting rows and columns by their position\n",
        "\"Using the iloc indexer, we can index the underlying array as if it is a simple NumPy array (using the implicit Python-style index), but the DataFrame index and column labels are maintained in the result:\"\n",
        "\n",
        "df.iloc[:3,:2]"
      ],
      "execution_count": 0,
      "outputs": [
        {
          "output_type": "execute_result",
          "data": {
            "text/html": [
              "<div>\n",
              "<style scoped>\n",
              "    .dataframe tbody tr th:only-of-type {\n",
              "        vertical-align: middle;\n",
              "    }\n",
              "\n",
              "    .dataframe tbody tr th {\n",
              "        vertical-align: top;\n",
              "    }\n",
              "\n",
              "    .dataframe thead th {\n",
              "        text-align: right;\n",
              "    }\n",
              "</style>\n",
              "<table border=\"1\" class=\"dataframe\">\n",
              "  <thead>\n",
              "    <tr style=\"text-align: right;\">\n",
              "      <th></th>\n",
              "      <th>name</th>\n",
              "      <th>subject</th>\n",
              "    </tr>\n",
              "  </thead>\n",
              "  <tbody>\n",
              "    <tr>\n",
              "      <th>a</th>\n",
              "      <td>BBM sir</td>\n",
              "      <td>Maths</td>\n",
              "    </tr>\n",
              "    <tr>\n",
              "      <th>b</th>\n",
              "      <td>PKD sir</td>\n",
              "      <td>Chemistry</td>\n",
              "    </tr>\n",
              "    <tr>\n",
              "      <th>c</th>\n",
              "      <td>Dawn sir</td>\n",
              "      <td>Sports</td>\n",
              "    </tr>\n",
              "  </tbody>\n",
              "</table>\n",
              "</div>"
            ],
            "text/plain": [
              "       name    subject\n",
              "a   BBM sir      Maths\n",
              "b   PKD sir  Chemistry\n",
              "c  Dawn sir     Sports"
            ]
          },
          "metadata": {
            "tags": []
          },
          "execution_count": 36
        }
      ]
    },
    {
      "cell_type": "code",
      "metadata": {
        "id": "cB7iaqnOKpQ3",
        "colab_type": "code",
        "outputId": "4e8f46a9-3ce3-4eaf-bdc0-da1107b4b7f2",
        "colab": {
          "base_uri": "https://localhost:8080/",
          "height": 106
        }
      },
      "source": [
        "\"using the loc indexer we can index the underlying data in an array-like style but using the explicit index and column names\"\n",
        "\n",
        "df.loc['e':,:'subject']\n"
      ],
      "execution_count": 0,
      "outputs": [
        {
          "output_type": "execute_result",
          "data": {
            "text/html": [
              "<div>\n",
              "<style scoped>\n",
              "    .dataframe tbody tr th:only-of-type {\n",
              "        vertical-align: middle;\n",
              "    }\n",
              "\n",
              "    .dataframe tbody tr th {\n",
              "        vertical-align: top;\n",
              "    }\n",
              "\n",
              "    .dataframe thead th {\n",
              "        text-align: right;\n",
              "    }\n",
              "</style>\n",
              "<table border=\"1\" class=\"dataframe\">\n",
              "  <thead>\n",
              "    <tr style=\"text-align: right;\">\n",
              "      <th></th>\n",
              "      <th>name</th>\n",
              "      <th>subject</th>\n",
              "    </tr>\n",
              "  </thead>\n",
              "  <tbody>\n",
              "    <tr>\n",
              "      <th>e</th>\n",
              "      <td>AKC sir</td>\n",
              "      <td>Discipline</td>\n",
              "    </tr>\n",
              "    <tr>\n",
              "      <th>f</th>\n",
              "      <td>KPG sir</td>\n",
              "      <td>Everything</td>\n",
              "    </tr>\n",
              "  </tbody>\n",
              "</table>\n",
              "</div>"
            ],
            "text/plain": [
              "      name     subject\n",
              "e  AKC sir  Discipline\n",
              "f  KPG sir  Everything"
            ]
          },
          "metadata": {
            "tags": []
          },
          "execution_count": 40
        }
      ]
    },
    {
      "cell_type": "markdown",
      "metadata": {
        "id": "6R8lgAUHRHRi",
        "colab_type": "text"
      },
      "source": [
        "**Basic Descriptive Statistics using pandas**\n",
        "\n",
        "Pandas has functions that provide functionality for doing Basic descriptive Statistics on a dataset imported as dataframe. \n",
        "\n",
        "Let us have a look at few examples with code:\n",
        "\n"
      ]
    },
    {
      "cell_type": "code",
      "metadata": {
        "id": "ZXM4vNhPLTDU",
        "colab_type": "code",
        "colab": {}
      },
      "source": [
        "df['marks2'] = [90,92,94,96,98,100]"
      ],
      "execution_count": 0,
      "outputs": []
    },
    {
      "cell_type": "code",
      "metadata": {
        "id": "EJBEGtw-TA7T",
        "colab_type": "code",
        "outputId": "9b8f9e97-0a3d-436d-cbe2-d4ed521b737c",
        "colab": {
          "base_uri": "https://localhost:8080/",
          "height": 223
        }
      },
      "source": [
        "df"
      ],
      "execution_count": 0,
      "outputs": [
        {
          "output_type": "execute_result",
          "data": {
            "text/html": [
              "<div>\n",
              "<style scoped>\n",
              "    .dataframe tbody tr th:only-of-type {\n",
              "        vertical-align: middle;\n",
              "    }\n",
              "\n",
              "    .dataframe tbody tr th {\n",
              "        vertical-align: top;\n",
              "    }\n",
              "\n",
              "    .dataframe thead th {\n",
              "        text-align: right;\n",
              "    }\n",
              "</style>\n",
              "<table border=\"1\" class=\"dataframe\">\n",
              "  <thead>\n",
              "    <tr style=\"text-align: right;\">\n",
              "      <th></th>\n",
              "      <th>name</th>\n",
              "      <th>subject</th>\n",
              "      <th>marks</th>\n",
              "      <th>marks2</th>\n",
              "    </tr>\n",
              "  </thead>\n",
              "  <tbody>\n",
              "    <tr>\n",
              "      <th>a</th>\n",
              "      <td>BBM sir</td>\n",
              "      <td>Maths</td>\n",
              "      <td>99</td>\n",
              "      <td>90</td>\n",
              "    </tr>\n",
              "    <tr>\n",
              "      <th>b</th>\n",
              "      <td>PKD sir</td>\n",
              "      <td>Chemistry</td>\n",
              "      <td>85</td>\n",
              "      <td>92</td>\n",
              "    </tr>\n",
              "    <tr>\n",
              "      <th>c</th>\n",
              "      <td>Dawn sir</td>\n",
              "      <td>Sports</td>\n",
              "      <td>0</td>\n",
              "      <td>94</td>\n",
              "    </tr>\n",
              "    <tr>\n",
              "      <th>d</th>\n",
              "      <td>Riya mam</td>\n",
              "      <td>English</td>\n",
              "      <td>100</td>\n",
              "      <td>96</td>\n",
              "    </tr>\n",
              "    <tr>\n",
              "      <th>e</th>\n",
              "      <td>AKC sir</td>\n",
              "      <td>Discipline</td>\n",
              "      <td>99</td>\n",
              "      <td>98</td>\n",
              "    </tr>\n",
              "    <tr>\n",
              "      <th>f</th>\n",
              "      <td>KPG sir</td>\n",
              "      <td>Everything</td>\n",
              "      <td>98</td>\n",
              "      <td>100</td>\n",
              "    </tr>\n",
              "  </tbody>\n",
              "</table>\n",
              "</div>"
            ],
            "text/plain": [
              "       name     subject  marks  marks2\n",
              "a   BBM sir       Maths     99      90\n",
              "b   PKD sir   Chemistry     85      92\n",
              "c  Dawn sir      Sports      0      94\n",
              "d  Riya mam     English    100      96\n",
              "e   AKC sir  Discipline     99      98\n",
              "f   KPG sir  Everything     98     100"
            ]
          },
          "metadata": {
            "tags": []
          },
          "execution_count": 44
        }
      ]
    },
    {
      "cell_type": "code",
      "metadata": {
        "id": "MTLWdFWfTCfl",
        "colab_type": "code",
        "colab": {}
      },
      "source": [
        "#Mean Marks\n",
        "df['marks'].mean()"
      ],
      "execution_count": 0,
      "outputs": []
    },
    {
      "cell_type": "code",
      "metadata": {
        "id": "y6fpiP6hTYgu",
        "colab_type": "code",
        "outputId": "9585411c-6a24-4da5-b1d4-cef757e03ec9",
        "colab": {
          "base_uri": "https://localhost:8080/",
          "height": 141
        }
      },
      "source": [
        "#Cumulative sum of Marks, moving from the rows from the top\n",
        "df['marks'].cumsum()"
      ],
      "execution_count": 0,
      "outputs": [
        {
          "output_type": "execute_result",
          "data": {
            "text/plain": [
              "a     99\n",
              "b    184\n",
              "c    184\n",
              "d    284\n",
              "e    383\n",
              "f    481\n",
              "Name: marks, dtype: int64"
            ]
          },
          "metadata": {
            "tags": []
          },
          "execution_count": 45
        }
      ]
    },
    {
      "cell_type": "markdown",
      "metadata": {
        "id": "ETYAKMRUT1Z1",
        "colab_type": "text"
      },
      "source": [
        "**Summary statistics**"
      ]
    },
    {
      "cell_type": "code",
      "metadata": {
        "id": "LiiqUSSYTnfN",
        "colab_type": "code",
        "outputId": "2e09d18f-0807-4f74-aaad-10430511dc55",
        "colab": {
          "base_uri": "https://localhost:8080/",
          "height": 282
        }
      },
      "source": [
        "df.describe()"
      ],
      "execution_count": 0,
      "outputs": [
        {
          "output_type": "execute_result",
          "data": {
            "text/html": [
              "<div>\n",
              "<style scoped>\n",
              "    .dataframe tbody tr th:only-of-type {\n",
              "        vertical-align: middle;\n",
              "    }\n",
              "\n",
              "    .dataframe tbody tr th {\n",
              "        vertical-align: top;\n",
              "    }\n",
              "\n",
              "    .dataframe thead th {\n",
              "        text-align: right;\n",
              "    }\n",
              "</style>\n",
              "<table border=\"1\" class=\"dataframe\">\n",
              "  <thead>\n",
              "    <tr style=\"text-align: right;\">\n",
              "      <th></th>\n",
              "      <th>marks</th>\n",
              "      <th>marks2</th>\n",
              "    </tr>\n",
              "  </thead>\n",
              "  <tbody>\n",
              "    <tr>\n",
              "      <th>count</th>\n",
              "      <td>6.000000</td>\n",
              "      <td>6.000000</td>\n",
              "    </tr>\n",
              "    <tr>\n",
              "      <th>mean</th>\n",
              "      <td>80.166667</td>\n",
              "      <td>95.000000</td>\n",
              "    </tr>\n",
              "    <tr>\n",
              "      <th>std</th>\n",
              "      <td>39.675769</td>\n",
              "      <td>3.741657</td>\n",
              "    </tr>\n",
              "    <tr>\n",
              "      <th>min</th>\n",
              "      <td>0.000000</td>\n",
              "      <td>90.000000</td>\n",
              "    </tr>\n",
              "    <tr>\n",
              "      <th>25%</th>\n",
              "      <td>88.250000</td>\n",
              "      <td>92.500000</td>\n",
              "    </tr>\n",
              "    <tr>\n",
              "      <th>50%</th>\n",
              "      <td>98.500000</td>\n",
              "      <td>95.000000</td>\n",
              "    </tr>\n",
              "    <tr>\n",
              "      <th>75%</th>\n",
              "      <td>99.000000</td>\n",
              "      <td>97.500000</td>\n",
              "    </tr>\n",
              "    <tr>\n",
              "      <th>max</th>\n",
              "      <td>100.000000</td>\n",
              "      <td>100.000000</td>\n",
              "    </tr>\n",
              "  </tbody>\n",
              "</table>\n",
              "</div>"
            ],
            "text/plain": [
              "            marks      marks2\n",
              "count    6.000000    6.000000\n",
              "mean    80.166667   95.000000\n",
              "std     39.675769    3.741657\n",
              "min      0.000000   90.000000\n",
              "25%     88.250000   92.500000\n",
              "50%     98.500000   95.000000\n",
              "75%     99.000000   97.500000\n",
              "max    100.000000  100.000000"
            ]
          },
          "metadata": {
            "tags": []
          },
          "execution_count": 46
        }
      ]
    },
    {
      "cell_type": "markdown",
      "metadata": {
        "id": "7gjr6a00aHzF",
        "colab_type": "text"
      },
      "source": [
        "**Skewness of Marks**"
      ]
    },
    {
      "cell_type": "code",
      "metadata": {
        "id": "FdnX7KUJaHJp",
        "colab_type": "code",
        "outputId": "10cf70d3-144a-4180-8bc9-8ea81d9b86ad",
        "colab": {
          "base_uri": "https://localhost:8080/",
          "height": 35
        }
      },
      "source": [
        "df['marks'].skew()"
      ],
      "execution_count": 0,
      "outputs": [
        {
          "output_type": "execute_result",
          "data": {
            "text/plain": [
              "-2.3452909570771205"
            ]
          },
          "metadata": {
            "tags": []
          },
          "execution_count": 47
        }
      ]
    },
    {
      "cell_type": "markdown",
      "metadata": {
        "id": "vo3ZiXyzaonM",
        "colab_type": "text"
      },
      "source": [
        "**Kurtosis of Marks**"
      ]
    },
    {
      "cell_type": "code",
      "metadata": {
        "id": "_7dF41GwT-ew",
        "colab_type": "code",
        "outputId": "e0c1f742-913a-499c-8470-c2f75fa8d98b",
        "colab": {
          "base_uri": "https://localhost:8080/",
          "height": 35
        }
      },
      "source": [
        "df['marks'].kurt()"
      ],
      "execution_count": 0,
      "outputs": [
        {
          "output_type": "execute_result",
          "data": {
            "text/plain": [
              "5.560854925327625"
            ]
          },
          "metadata": {
            "tags": []
          },
          "execution_count": 48
        }
      ]
    },
    {
      "cell_type": "markdown",
      "metadata": {
        "id": "pmWQiSZHbBMl",
        "colab_type": "text"
      },
      "source": [
        "**Correlation Matrix Of Values**"
      ]
    },
    {
      "cell_type": "code",
      "metadata": {
        "id": "g5ckyxcmahdh",
        "colab_type": "code",
        "outputId": "ad0c853f-bb92-4cfa-daad-066ce7b5748a",
        "colab": {
          "base_uri": "https://localhost:8080/",
          "height": 106
        }
      },
      "source": [
        "df.corr()"
      ],
      "execution_count": 0,
      "outputs": [
        {
          "output_type": "execute_result",
          "data": {
            "text/html": [
              "<div>\n",
              "<style scoped>\n",
              "    .dataframe tbody tr th:only-of-type {\n",
              "        vertical-align: middle;\n",
              "    }\n",
              "\n",
              "    .dataframe tbody tr th {\n",
              "        vertical-align: top;\n",
              "    }\n",
              "\n",
              "    .dataframe thead th {\n",
              "        text-align: right;\n",
              "    }\n",
              "</style>\n",
              "<table border=\"1\" class=\"dataframe\">\n",
              "  <thead>\n",
              "    <tr style=\"text-align: right;\">\n",
              "      <th></th>\n",
              "      <th>marks</th>\n",
              "      <th>marks2</th>\n",
              "    </tr>\n",
              "  </thead>\n",
              "  <tbody>\n",
              "    <tr>\n",
              "      <th>marks</th>\n",
              "      <td>1.00000</td>\n",
              "      <td>0.18457</td>\n",
              "    </tr>\n",
              "    <tr>\n",
              "      <th>marks2</th>\n",
              "      <td>0.18457</td>\n",
              "      <td>1.00000</td>\n",
              "    </tr>\n",
              "  </tbody>\n",
              "</table>\n",
              "</div>"
            ],
            "text/plain": [
              "          marks   marks2\n",
              "marks   1.00000  0.18457\n",
              "marks2  0.18457  1.00000"
            ]
          },
          "metadata": {
            "tags": []
          },
          "execution_count": 49
        }
      ]
    },
    {
      "cell_type": "markdown",
      "metadata": {
        "id": "JOZlXH0YbIF-",
        "colab_type": "text"
      },
      "source": [
        "**Covariance Matrix Of Values**"
      ]
    },
    {
      "cell_type": "code",
      "metadata": {
        "id": "3E9IM0dVbEmy",
        "colab_type": "code",
        "outputId": "8869ad44-b309-41a4-d7af-3e707b726d1d",
        "colab": {
          "base_uri": "https://localhost:8080/",
          "height": 106
        }
      },
      "source": [
        "df.cov()"
      ],
      "execution_count": 0,
      "outputs": [
        {
          "output_type": "execute_result",
          "data": {
            "text/html": [
              "<div>\n",
              "<style scoped>\n",
              "    .dataframe tbody tr th:only-of-type {\n",
              "        vertical-align: middle;\n",
              "    }\n",
              "\n",
              "    .dataframe tbody tr th {\n",
              "        vertical-align: top;\n",
              "    }\n",
              "\n",
              "    .dataframe thead th {\n",
              "        text-align: right;\n",
              "    }\n",
              "</style>\n",
              "<table border=\"1\" class=\"dataframe\">\n",
              "  <thead>\n",
              "    <tr style=\"text-align: right;\">\n",
              "      <th></th>\n",
              "      <th>marks</th>\n",
              "      <th>marks2</th>\n",
              "    </tr>\n",
              "  </thead>\n",
              "  <tbody>\n",
              "    <tr>\n",
              "      <th>marks</th>\n",
              "      <td>1574.166667</td>\n",
              "      <td>27.4</td>\n",
              "    </tr>\n",
              "    <tr>\n",
              "      <th>marks2</th>\n",
              "      <td>27.400000</td>\n",
              "      <td>14.0</td>\n",
              "    </tr>\n",
              "  </tbody>\n",
              "</table>\n",
              "</div>"
            ],
            "text/plain": [
              "              marks  marks2\n",
              "marks   1574.166667    27.4\n",
              "marks2    27.400000    14.0"
            ]
          },
          "metadata": {
            "tags": []
          },
          "execution_count": 50
        }
      ]
    },
    {
      "cell_type": "markdown",
      "metadata": {
        "id": "nzpWEP0fb_Sc",
        "colab_type": "text"
      },
      "source": [
        "**Plotting (Boxplot & Histogram) with Pandas**\n",
        "\n",
        "Many of you might be unaware that boxplots and histograms can be directly plotted in Pandas and calling matplotlib separately is not necessary. It’s just a 1-line command. For instance, if we want to compare the distribution of Marks by Teacher:"
      ]
    },
    {
      "cell_type": "code",
      "metadata": {
        "id": "frrWuZQibRey",
        "colab_type": "code",
        "outputId": "ddab063f-a3d1-47d8-ff3f-6151bf209a1c",
        "colab": {
          "base_uri": "https://localhost:8080/",
          "height": 319
        }
      },
      "source": [
        "df.boxplot(column=\"marks\",by=df.index)"
      ],
      "execution_count": 0,
      "outputs": [
        {
          "output_type": "execute_result",
          "data": {
            "text/plain": [
              "<matplotlib.axes._subplots.AxesSubplot at 0x7faaa76e94a8>"
            ]
          },
          "metadata": {
            "tags": []
          },
          "execution_count": 56
        },
        {
          "output_type": "display_data",
          "data": {
            "image/png": "[encoded data removed]",
            "text/plain": [
              "<Figure size 432x288 with 1 Axes>"
            ]
          },
          "metadata": {
            "tags": []
          }
        }
      ]
    },
    {
      "cell_type": "code",
      "metadata": {
        "id": "dLf9Lo58dHAU",
        "colab_type": "code",
        "outputId": "dbf15228-c11a-4c15-e307-998163492412",
        "colab": {
          "base_uri": "https://localhost:8080/",
          "height": 429
        }
      },
      "source": [
        "df.hist(column=\"marks\",by=\"name\",bins=30)"
      ],
      "execution_count": 0,
      "outputs": [
        {
          "output_type": "execute_result",
          "data": {
            "text/plain": [
              "array([[<matplotlib.axes._subplots.AxesSubplot object at 0x7faaa6ef83c8>,\n",
              "        <matplotlib.axes._subplots.AxesSubplot object at 0x7faaa6ec0630>],\n",
              "       [<matplotlib.axes._subplots.AxesSubplot object at 0x7faaa6e71780>,\n",
              "        <matplotlib.axes._subplots.AxesSubplot object at 0x7faaa6ea18d0>],\n",
              "       [<matplotlib.axes._subplots.AxesSubplot object at 0x7faaa6e54a20>,\n",
              "        <matplotlib.axes._subplots.AxesSubplot object at 0x7faaa6e03b70>]],\n",
              "      dtype=object)"
            ]
          },
          "metadata": {
            "tags": []
          },
          "execution_count": 54
        },
        {
          "output_type": "display_data",
          "data": {
            "image/png": "[encoded data removed]",
            "text/plain": [
              "<Figure size 432x288 with 6 Axes>"
            ]
          },
          "metadata": {
            "tags": []
          }
        }
      ]
    },
    {
      "cell_type": "markdown",
      "metadata": {
        "id": "5rtS1z95efS0",
        "colab_type": "text"
      },
      "source": [
        "For the dataframe given below, what will be the output of df.count()?\n",
        "\n",
        "7\n",
        "\n",
        "9\n",
        "\n",
        "NA\n",
        "\n",
        "5\n",
        "\n",
        "5\n",
        "\n",
        "4\n",
        "\n",
        "\n",
        "A.) 6\n",
        "\n",
        "B.) 5\n",
        "\n",
        "c.) 4\n",
        "\n",
        "D.) None\n"
      ]
    },
    {
      "cell_type": "markdown",
      "metadata": {
        "id": "mZYmVuSlh8s9",
        "colab_type": "text"
      },
      "source": [
        "**Sorting Dataframes**\n",
        "\n",
        "Pandas dataframes has two useful notations\n",
        "          \n",
        "+ **sort_values() :** to sort pandas dataframe by one or more columns\n",
        "+ **sort_index() :** to sort pandas data frame by row index"
      ]
    },
    {
      "cell_type": "code",
      "metadata": {
        "id": "k5QUuhXcf50h",
        "colab_type": "code",
        "outputId": "3bcdb8d3-34a1-4bc5-d38c-b4503e16b910",
        "colab": {
          "base_uri": "https://localhost:8080/",
          "height": 141
        }
      },
      "source": [
        "df['marks'].sort_values()"
      ],
      "execution_count": 0,
      "outputs": [
        {
          "output_type": "execute_result",
          "data": {
            "text/plain": [
              "c      0\n",
              "b     85\n",
              "f     98\n",
              "a     99\n",
              "e     99\n",
              "d    100\n",
              "Name: marks, dtype: int64"
            ]
          },
          "metadata": {
            "tags": []
          },
          "execution_count": 57
        }
      ]
    },
    {
      "cell_type": "markdown",
      "metadata": {
        "id": "pvWzcHR1CuKO",
        "colab_type": "text"
      },
      "source": [
        "**Binning Using Pandas**\n",
        "\n",
        "First, let's create a simple pandas DataFrame assigned to the variable df_ages with just one colum for age. This column will contain 8 random age values between 21 inclusive and 51 exclusive,"
      ]
    },
    {
      "cell_type": "code",
      "metadata": {
        "id": "oYQO7wSMDWah",
        "colab_type": "code",
        "colab": {}
      },
      "source": [
        "import pandas as pd\n",
        "import numpy as np"
      ],
      "execution_count": 0,
      "outputs": []
    },
    {
      "cell_type": "code",
      "metadata": {
        "id": "ElBbTUTedbw8",
        "colab_type": "code",
        "outputId": "eefb4acc-2ed3-4e07-f24d-53807db99cf1",
        "colab": {
          "base_uri": "https://localhost:8080/",
          "height": 282
        }
      },
      "source": [
        "df_ages = pd.DataFrame({'age': np.random.randint(21, 51, 8)})\n",
        "\n",
        "df_ages"
      ],
      "execution_count": 0,
      "outputs": [
        {
          "output_type": "execute_result",
          "data": {
            "text/html": [
              "<div>\n",
              "<style scoped>\n",
              "    .dataframe tbody tr th:only-of-type {\n",
              "        vertical-align: middle;\n",
              "    }\n",
              "\n",
              "    .dataframe tbody tr th {\n",
              "        vertical-align: top;\n",
              "    }\n",
              "\n",
              "    .dataframe thead th {\n",
              "        text-align: right;\n",
              "    }\n",
              "</style>\n",
              "<table border=\"1\" class=\"dataframe\">\n",
              "  <thead>\n",
              "    <tr style=\"text-align: right;\">\n",
              "      <th></th>\n",
              "      <th>age</th>\n",
              "    </tr>\n",
              "  </thead>\n",
              "  <tbody>\n",
              "    <tr>\n",
              "      <th>0</th>\n",
              "      <td>37</td>\n",
              "    </tr>\n",
              "    <tr>\n",
              "      <th>1</th>\n",
              "      <td>48</td>\n",
              "    </tr>\n",
              "    <tr>\n",
              "      <th>2</th>\n",
              "      <td>43</td>\n",
              "    </tr>\n",
              "    <tr>\n",
              "      <th>3</th>\n",
              "      <td>39</td>\n",
              "    </tr>\n",
              "    <tr>\n",
              "      <th>4</th>\n",
              "      <td>26</td>\n",
              "    </tr>\n",
              "    <tr>\n",
              "      <th>5</th>\n",
              "      <td>31</td>\n",
              "    </tr>\n",
              "    <tr>\n",
              "      <th>6</th>\n",
              "      <td>43</td>\n",
              "    </tr>\n",
              "    <tr>\n",
              "      <th>7</th>\n",
              "      <td>47</td>\n",
              "    </tr>\n",
              "  </tbody>\n",
              "</table>\n",
              "</div>"
            ],
            "text/plain": [
              "   age\n",
              "0   37\n",
              "1   48\n",
              "2   43\n",
              "3   39\n",
              "4   26\n",
              "5   31\n",
              "6   43\n",
              "7   47"
            ]
          },
          "metadata": {
            "tags": []
          },
          "execution_count": 5
        }
      ]
    },
    {
      "cell_type": "markdown",
      "metadata": {
        "id": "Roor10JHDk6N",
        "colab_type": "text"
      },
      "source": [
        "**Create New Column of age_bins Via Defining Bin Edges**\n",
        "\n",
        "This code creates a new column called age_bins that sets the x argument to the age column in df_ages and sets the bins argument to a list of bin edge values. The left bin edge will be exclusive and the right bin edge will be inclusive.\n",
        "\n",
        "The bins will be for ages: (20, 29] (someone in their 20s), (30, 39], and (40, 49]."
      ]
    },
    {
      "cell_type": "code",
      "metadata": {
        "id": "FQGcstv8DKW6",
        "colab_type": "code",
        "outputId": "dcbc0a6d-11f3-4cb7-89fe-fc347d86f6cb",
        "colab": {
          "base_uri": "https://localhost:8080/",
          "height": 282
        }
      },
      "source": [
        "df_ages['age_bins'] = pd.cut(x=df_ages['age'], bins=[20, 29, 39, 49])\n",
        "\n",
        "df_ages"
      ],
      "execution_count": 0,
      "outputs": [
        {
          "output_type": "execute_result",
          "data": {
            "text/html": [
              "<div>\n",
              "<style scoped>\n",
              "    .dataframe tbody tr th:only-of-type {\n",
              "        vertical-align: middle;\n",
              "    }\n",
              "\n",
              "    .dataframe tbody tr th {\n",
              "        vertical-align: top;\n",
              "    }\n",
              "\n",
              "    .dataframe thead th {\n",
              "        text-align: right;\n",
              "    }\n",
              "</style>\n",
              "<table border=\"1\" class=\"dataframe\">\n",
              "  <thead>\n",
              "    <tr style=\"text-align: right;\">\n",
              "      <th></th>\n",
              "      <th>age</th>\n",
              "      <th>age_bins</th>\n",
              "    </tr>\n",
              "  </thead>\n",
              "  <tbody>\n",
              "    <tr>\n",
              "      <th>0</th>\n",
              "      <td>37</td>\n",
              "      <td>(29, 39]</td>\n",
              "    </tr>\n",
              "    <tr>\n",
              "      <th>1</th>\n",
              "      <td>48</td>\n",
              "      <td>(39, 49]</td>\n",
              "    </tr>\n",
              "    <tr>\n",
              "      <th>2</th>\n",
              "      <td>43</td>\n",
              "      <td>(39, 49]</td>\n",
              "    </tr>\n",
              "    <tr>\n",
              "      <th>3</th>\n",
              "      <td>39</td>\n",
              "      <td>(29, 39]</td>\n",
              "    </tr>\n",
              "    <tr>\n",
              "      <th>4</th>\n",
              "      <td>26</td>\n",
              "      <td>(20, 29]</td>\n",
              "    </tr>\n",
              "    <tr>\n",
              "      <th>5</th>\n",
              "      <td>31</td>\n",
              "      <td>(29, 39]</td>\n",
              "    </tr>\n",
              "    <tr>\n",
              "      <th>6</th>\n",
              "      <td>43</td>\n",
              "      <td>(39, 49]</td>\n",
              "    </tr>\n",
              "    <tr>\n",
              "      <th>7</th>\n",
              "      <td>47</td>\n",
              "      <td>(39, 49]</td>\n",
              "    </tr>\n",
              "  </tbody>\n",
              "</table>\n",
              "</div>"
            ],
            "text/plain": [
              "   age  age_bins\n",
              "0   37  (29, 39]\n",
              "1   48  (39, 49]\n",
              "2   43  (39, 49]\n",
              "3   39  (29, 39]\n",
              "4   26  (20, 29]\n",
              "5   31  (29, 39]\n",
              "6   43  (39, 49]\n",
              "7   47  (39, 49]"
            ]
          },
          "metadata": {
            "tags": []
          },
          "execution_count": 7
        }
      ]
    },
    {
      "cell_type": "code",
      "metadata": {
        "id": "Vg2nigIUDthy",
        "colab_type": "code",
        "outputId": "ea050525-f47b-43d8-df65-5b2b6a119ff9",
        "colab": {
          "base_uri": "https://localhost:8080/",
          "height": 52
        }
      },
      "source": [
        "df_ages['age_bins'].unique()"
      ],
      "execution_count": 0,
      "outputs": [
        {
          "output_type": "execute_result",
          "data": {
            "text/plain": [
              "[(29, 39], (39, 49], (20, 29]]\n",
              "Categories (3, interval[int64]): [(20, 29] < (29, 39] < (39, 49]]"
            ]
          },
          "metadata": {
            "tags": []
          },
          "execution_count": 8
        }
      ]
    },
    {
      "cell_type": "markdown",
      "metadata": {
        "id": "AOqg-JybEI2V",
        "colab_type": "text"
      },
      "source": [
        "**Create New Column of of age_by_decade With Labels 20s, 30s, and 40s**\n",
        "\n",
        "This code creates a new column called age_by_decade with the same first 2 arguments as above, and a third argument of labels set to a list of values that correspond to how the age values will be put in bins by decades."
      ]
    },
    {
      "cell_type": "code",
      "metadata": {
        "id": "Humka4iBD5NC",
        "colab_type": "code",
        "outputId": "742363ce-ecd8-420b-b9ca-9a04f903e6bc",
        "colab": {
          "base_uri": "https://localhost:8080/",
          "height": 282
        }
      },
      "source": [
        "df_ages['age_by_decade'] = pd.cut(x=df_ages['age'], bins=[20, 29, 39, 49], labels=['20s', '30s', '40s'])\n",
        "\n",
        "df_ages"
      ],
      "execution_count": 0,
      "outputs": [
        {
          "output_type": "execute_result",
          "data": {
            "text/html": [
              "<div>\n",
              "<style scoped>\n",
              "    .dataframe tbody tr th:only-of-type {\n",
              "        vertical-align: middle;\n",
              "    }\n",
              "\n",
              "    .dataframe tbody tr th {\n",
              "        vertical-align: top;\n",
              "    }\n",
              "\n",
              "    .dataframe thead th {\n",
              "        text-align: right;\n",
              "    }\n",
              "</style>\n",
              "<table border=\"1\" class=\"dataframe\">\n",
              "  <thead>\n",
              "    <tr style=\"text-align: right;\">\n",
              "      <th></th>\n",
              "      <th>age</th>\n",
              "      <th>age_bins</th>\n",
              "      <th>age_by_decade</th>\n",
              "    </tr>\n",
              "  </thead>\n",
              "  <tbody>\n",
              "    <tr>\n",
              "      <th>0</th>\n",
              "      <td>37</td>\n",
              "      <td>(29, 39]</td>\n",
              "      <td>30s</td>\n",
              "    </tr>\n",
              "    <tr>\n",
              "      <th>1</th>\n",
              "      <td>48</td>\n",
              "      <td>(39, 49]</td>\n",
              "      <td>40s</td>\n",
              "    </tr>\n",
              "    <tr>\n",
              "      <th>2</th>\n",
              "      <td>43</td>\n",
              "      <td>(39, 49]</td>\n",
              "      <td>40s</td>\n",
              "    </tr>\n",
              "    <tr>\n",
              "      <th>3</th>\n",
              "      <td>39</td>\n",
              "      <td>(29, 39]</td>\n",
              "      <td>30s</td>\n",
              "    </tr>\n",
              "    <tr>\n",
              "      <th>4</th>\n",
              "      <td>26</td>\n",
              "      <td>(20, 29]</td>\n",
              "      <td>20s</td>\n",
              "    </tr>\n",
              "    <tr>\n",
              "      <th>5</th>\n",
              "      <td>31</td>\n",
              "      <td>(29, 39]</td>\n",
              "      <td>30s</td>\n",
              "    </tr>\n",
              "    <tr>\n",
              "      <th>6</th>\n",
              "      <td>43</td>\n",
              "      <td>(39, 49]</td>\n",
              "      <td>40s</td>\n",
              "    </tr>\n",
              "    <tr>\n",
              "      <th>7</th>\n",
              "      <td>47</td>\n",
              "      <td>(39, 49]</td>\n",
              "      <td>40s</td>\n",
              "    </tr>\n",
              "  </tbody>\n",
              "</table>\n",
              "</div>"
            ],
            "text/plain": [
              "   age  age_bins age_by_decade\n",
              "0   37  (29, 39]           30s\n",
              "1   48  (39, 49]           40s\n",
              "2   43  (39, 49]           40s\n",
              "3   39  (29, 39]           30s\n",
              "4   26  (20, 29]           20s\n",
              "5   31  (29, 39]           30s\n",
              "6   43  (39, 49]           40s\n",
              "7   47  (39, 49]           40s"
            ]
          },
          "metadata": {
            "tags": []
          },
          "execution_count": 9
        }
      ]
    },
    {
      "cell_type": "code",
      "metadata": {
        "id": "ZwMtyRjlEXDk",
        "colab_type": "code",
        "colab": {}
      },
      "source": [
        "Pandas treats None and NaN as essentially interchangeable for indicating missing or null values. To facilitate this convention, there are several useful methods for detecting, removing, and replacing null values in Pandas data structures. They are:\n",
        "\n",
        "isnull(): Generate a boolean mask indicating missing values\n",
        "notnull(): Opposite of isnull()\n",
        "dropna(): Return a filtered version of the data\n",
        "fillna(): Return a copy of the data with missing values filled or imputed"
      ],
      "execution_count": 0,
      "outputs": []
    },
    {
      "cell_type": "code",
      "metadata": {
        "id": "-YHGfg6_tGkh",
        "colab_type": "code",
        "colab": {}
      },
      "source": [
        "import pandas as pd\n",
        "df = pd.read_csv('/content/loan.csv')"
      ],
      "execution_count": 0,
      "outputs": []
    },
    {
      "cell_type": "code",
      "metadata": {
        "id": "jgH_4A-YtbvA",
        "colab_type": "code",
        "outputId": "3a88f973-5730-4487-90d7-110d2521719b",
        "colab": {
          "base_uri": "https://localhost:8080/",
          "height": 337
        }
      },
      "source": [
        "df.info()"
      ],
      "execution_count": 0,
      "outputs": [
        {
          "output_type": "stream",
          "text": [
            "<class 'pandas.core.frame.DataFrame'>\n",
            "RangeIndex: 614 entries, 0 to 613\n",
            "Data columns (total 13 columns):\n",
            "Loan_ID              614 non-null object\n",
            "Gender               601 non-null object\n",
            "Married              611 non-null object\n",
            "Dependents           599 non-null object\n",
            "Education            614 non-null object\n",
            "Self_Employed        582 non-null object\n",
            "ApplicantIncome      614 non-null int64\n",
            "CoapplicantIncome    614 non-null float64\n",
            "LoanAmount           592 non-null float64\n",
            "Loan_Amount_Term     600 non-null float64\n",
            "Credit_History       564 non-null float64\n",
            "Property_Area        614 non-null object\n",
            "Loan_Status          614 non-null object\n",
            "dtypes: float64(4), int64(1), object(8)\n",
            "memory usage: 62.5+ KB\n"
          ],
          "name": "stdout"
        }
      ]
    },
    {
      "cell_type": "code",
      "metadata": {
        "id": "cP1_6fMvtlHt",
        "colab_type": "code",
        "outputId": "12149e88-83ee-4ef5-a808-86f71af37622",
        "colab": {
          "base_uri": "https://localhost:8080/",
          "height": 266
        }
      },
      "source": [
        "df.isnull().sum()"
      ],
      "execution_count": 0,
      "outputs": [
        {
          "output_type": "execute_result",
          "data": {
            "text/plain": [
              "Loan_ID               0\n",
              "Gender               13\n",
              "Married               3\n",
              "Dependents           15\n",
              "Education             0\n",
              "Self_Employed        32\n",
              "ApplicantIncome       0\n",
              "CoapplicantIncome     0\n",
              "LoanAmount           22\n",
              "Loan_Amount_Term     14\n",
              "Credit_History       50\n",
              "Property_Area         0\n",
              "Loan_Status           0\n",
              "dtype: int64"
            ]
          },
          "metadata": {
            "tags": []
          },
          "execution_count": 10
        }
      ]
    },
    {
      "cell_type": "markdown",
      "metadata": {
        "id": "Km0MP9BavwT9",
        "colab_type": "text"
      },
      "source": [
        "Now we can fill the missing values in the Pandas Dataframe data using .fillna"
      ]
    },
    {
      "cell_type": "code",
      "metadata": {
        "id": "O_dpipeDyjOs",
        "colab_type": "code",
        "outputId": "ea62a252-6fdd-4a96-bec8-e8094099f459",
        "colab": {
          "base_uri": "https://localhost:8080/",
          "height": 52
        }
      },
      "source": [
        "mode = df['LoanAmount'].mode()\n",
        "mode"
      ],
      "execution_count": 0,
      "outputs": [
        {
          "output_type": "execute_result",
          "data": {
            "text/plain": [
              "0    120.0\n",
              "dtype: float64"
            ]
          },
          "metadata": {
            "tags": []
          },
          "execution_count": 26
        }
      ]
    },
    {
      "cell_type": "code",
      "metadata": {
        "id": "fSw7cjZvwSCD",
        "colab_type": "code",
        "colab": {}
      },
      "source": [
        "df['LoanAmount'].fillna(120,inplace=True)"
      ],
      "execution_count": 0,
      "outputs": []
    },
    {
      "cell_type": "code",
      "metadata": {
        "id": "wH9G1HsbxJmi",
        "colab_type": "code",
        "outputId": "f0ed2a6a-9a92-4391-f10f-f1ae60ca21a5",
        "colab": {
          "base_uri": "https://localhost:8080/",
          "height": 266
        }
      },
      "source": [
        "df.isnull().sum()"
      ],
      "execution_count": 0,
      "outputs": [
        {
          "output_type": "execute_result",
          "data": {
            "text/plain": [
              "Loan_ID               0\n",
              "Gender               13\n",
              "Married               3\n",
              "Dependents           15\n",
              "Education             0\n",
              "Self_Employed        32\n",
              "ApplicantIncome       0\n",
              "CoapplicantIncome     0\n",
              "LoanAmount            0\n",
              "Loan_Amount_Term     14\n",
              "Credit_History       50\n",
              "Property_Area         0\n",
              "Loan_Status           0\n",
              "dtype: int64"
            ]
          },
          "metadata": {
            "tags": []
          },
          "execution_count": 30
        }
      ]
    },
    {
      "cell_type": "code",
      "metadata": {
        "id": "hNdn70mc1eyf",
        "colab_type": "code",
        "colab": {}
      },
      "source": [
        "df.fillna(1,inplace=True)"
      ],
      "execution_count": 0,
      "outputs": []
    },
    {
      "cell_type": "code",
      "metadata": {
        "id": "JTq19hfP1nFX",
        "colab_type": "code",
        "outputId": "e508dfa0-ac1d-4f94-f327-140d5b244eb7",
        "colab": {
          "base_uri": "https://localhost:8080/",
          "height": 266
        }
      },
      "source": [
        "df.isnull().sum()"
      ],
      "execution_count": 0,
      "outputs": [
        {
          "output_type": "execute_result",
          "data": {
            "text/plain": [
              "Loan_ID              0\n",
              "Gender               0\n",
              "Married              0\n",
              "Dependents           0\n",
              "Education            0\n",
              "Self_Employed        0\n",
              "ApplicantIncome      0\n",
              "CoapplicantIncome    0\n",
              "LoanAmount           0\n",
              "Loan_Amount_Term     0\n",
              "Credit_History       0\n",
              "Property_Area        0\n",
              "Loan_Status          0\n",
              "dtype: int64"
            ]
          },
          "metadata": {
            "tags": []
          },
          "execution_count": 32
        }
      ]
    },
    {
      "cell_type": "markdown",
      "metadata": {
        "id": "AwrjJijl02Hn",
        "colab_type": "text"
      },
      "source": [
        "**Aggregations in pandas**\n",
        "\n",
        "An essential piece of analysis of large data is efficient summarization: computing aggregations like sum(), mean(), median(), min(), and max(), in which a single number gives insight into the nature of a potentially large dataset. \n",
        "\n",
        "In this section, we'll explore aggregations in Pandas namely the following functions:\n",
        "\n",
        "1. Crosstab\n",
        "\n",
        "2. Groupby\n",
        "\n",
        "3. Pivot Table"
      ]
    },
    {
      "cell_type": "markdown",
      "metadata": {
        "id": "1adloJTp2cvL",
        "colab_type": "text"
      },
      "source": [
        "**Merging Data in Pandas Dataframes**\n",
        "\n",
        "+ Pandas has two useful functions for merging dataframes:\n",
        "          concat()\n",
        "          merge()"
      ]
    },
    {
      "cell_type": "markdown",
      "metadata": {
        "id": "lEzpo_z44aYo",
        "colab_type": "text"
      },
      "source": [
        "**Thanks!**"
      ]
    }
  ]
}